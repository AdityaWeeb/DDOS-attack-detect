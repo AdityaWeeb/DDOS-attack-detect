{
  "nbformat": 4,
  "nbformat_minor": 0,
  "metadata": {
    "colab": {
      "provenance": []
    },
    "kernelspec": {
      "name": "python3",
      "display_name": "Python 3"
    },
    "language_info": {
      "name": "python"
    }
  },
  "cells": [
    {
      "cell_type": "code",
      "source": [
        "print(f\"Number of samples: {combined_features.shape[0]}\")\n",
        "print(X_train.shape[0])  # To print the number of training samples\n",
        "print(X_test.shape[0])   # To print the number of testing samples"
      ],
      "metadata": {
        "colab": {
          "base_uri": "https://localhost:8080/",
          "height": 176
        },
        "id": "6gNTOJQ0zuUa",
        "outputId": "41d6ff2c-2c8c-4051-ed2a-7db1b83b5481"
      },
      "execution_count": null,
      "outputs": [
        {
          "output_type": "error",
          "ename": "NameError",
          "evalue": "name 'combined_features' is not defined",
          "traceback": [
            "\u001b[0;31m---------------------------------------------------------------------------\u001b[0m",
            "\u001b[0;31mNameError\u001b[0m                                 Traceback (most recent call last)",
            "\u001b[0;32m<ipython-input-2-421ebeeb274e>\u001b[0m in \u001b[0;36m<cell line: 0>\u001b[0;34m()\u001b[0m\n\u001b[0;32m----> 1\u001b[0;31m \u001b[0mprint\u001b[0m\u001b[0;34m(\u001b[0m\u001b[0;34mf\"Number of samples: {combined_features.shape[0]}\"\u001b[0m\u001b[0;34m)\u001b[0m\u001b[0;34m\u001b[0m\u001b[0;34m\u001b[0m\u001b[0m\n\u001b[0m\u001b[1;32m      2\u001b[0m \u001b[0mprint\u001b[0m\u001b[0;34m(\u001b[0m\u001b[0mX_train\u001b[0m\u001b[0;34m.\u001b[0m\u001b[0mshape\u001b[0m\u001b[0;34m[\u001b[0m\u001b[0;36m0\u001b[0m\u001b[0;34m]\u001b[0m\u001b[0;34m)\u001b[0m  \u001b[0;31m# To print the number of training samples\u001b[0m\u001b[0;34m\u001b[0m\u001b[0;34m\u001b[0m\u001b[0m\n\u001b[1;32m      3\u001b[0m \u001b[0mprint\u001b[0m\u001b[0;34m(\u001b[0m\u001b[0mX_test\u001b[0m\u001b[0;34m.\u001b[0m\u001b[0mshape\u001b[0m\u001b[0;34m[\u001b[0m\u001b[0;36m0\u001b[0m\u001b[0;34m]\u001b[0m\u001b[0;34m)\u001b[0m   \u001b[0;31m# To print the number of testing samples\u001b[0m\u001b[0;34m\u001b[0m\u001b[0;34m\u001b[0m\u001b[0m\n",
            "\u001b[0;31mNameError\u001b[0m: name 'combined_features' is not defined"
          ]
        }
      ]
    },
    {
      "cell_type": "markdown",
      "source": [
        "first load this dataset"
      ],
      "metadata": {
        "id": "n0lcjlEJzN5h"
      }
    },
    {
      "cell_type": "code",
      "source": [
        "from google.colab import drive\n",
        "drive.mount('/content/drive')"
      ],
      "metadata": {
        "colab": {
          "base_uri": "https://localhost:8080/"
        },
        "id": "aELsTMyZlM8C",
        "outputId": "051b8e44-ad47-48b7-bec3-f3c2977e58bd"
      },
      "execution_count": null,
      "outputs": [
        {
          "output_type": "stream",
          "name": "stdout",
          "text": [
            "Mounted at /content/drive\n"
          ]
        }
      ]
    },
    {
      "cell_type": "code",
      "source": [
        "import tensorflow as tf\n",
        "print(tf.__version__)"
      ],
      "metadata": {
        "colab": {
          "base_uri": "https://localhost:8080/"
        },
        "id": "ZaSKEPevzGPG",
        "outputId": "cb84508f-c2a3-45ee-f672-22ea1a1540ee"
      },
      "execution_count": null,
      "outputs": [
        {
          "output_type": "stream",
          "name": "stdout",
          "text": [
            "2.18.0\n"
          ]
        }
      ]
    },
    {
      "cell_type": "code",
      "source": [
        "import pandas as pd\n",
        "import numpy as np\n",
        "from sklearn.model_selection import train_test_split\n",
        "from sklearn.preprocessing import StandardScaler\n",
        "ddos_path = '/content/drive/MyDrive/dataset/cicddos2019_dataset.csv'\n",
        "bitcoin_path = '/content/drive/MyDrive/dataset/bitcoin.csv'\n",
        "\n",
        "# Load datasets\n",
        "#ddos_data = pd.read_csv('cicddos2019_dataset.csv')\n",
        "#bitcoin_data = pd.read_csv('bitcoin.csv')\n",
        "# Load datasets from Google Drive\n",
        "ddos_data = pd.read_csv(ddos_path)\n",
        "bitcoin_data = pd.read_csv(bitcoin_path)\n",
        "\n",
        "# Preprocess DDoS dataset\n",
        "ddos_data = ddos_data.dropna()\n",
        "ddos_data['DDoS_binary'] = (ddos_data['Class'] == 'Attack').astype(int)\n",
        "ddos_features = ddos_data[[\n",
        "    'Flow Duration', 'Total Fwd Packets', 'Total Backward Packets',\n",
        "    'Fwd Packets Length Total', 'Bwd Packets Length Total',\n",
        "    'Flow Bytes/s', 'Flow Packets/s'\n",
        "]].copy()\n",
        "ddos_features['Label'] = ddos_data['DDoS_binary']\n",
        "\n",
        "# Preprocess Bitcoin dataset\n",
        "bitcoin_data = bitcoin_data.drop(columns=['tx_hash'], errors='ignore')\n",
        "bitcoin_data = bitcoin_data.apply(pd.to_numeric, errors='coerce')\n",
        "bitcoin_data = bitcoin_data.dropna()\n",
        "bitcoin_threshold = bitcoin_data['indegree'].median()\n",
        "bitcoin_data['Bitcoin_binary'] = (bitcoin_data['indegree'] > bitcoin_threshold).astype(int)\n",
        "bitcoin_features = bitcoin_data[[\n",
        "    'indegree', 'outdegree', 'in_btc', 'out_btc',\n",
        "    'total_btc', 'mean_in_btc', 'mean_out_btc'\n",
        "]].copy()\n",
        "bitcoin_features.rename(columns={\n",
        "    'indegree': 'Total Fwd Packets',\n",
        "    'outdegree': 'Total Backward Packets',\n",
        "    'in_btc': 'Fwd Packets Length Total',\n",
        "    'out_btc': 'Bwd Packets Length Total',\n",
        "    'total_btc': 'Flow Duration',\n",
        "    'mean_in_btc': 'Flow Bytes/s',\n",
        "    'mean_out_btc': 'Flow Packets/s'\n",
        "}, inplace=True)\n",
        "bitcoin_features['Label'] = bitcoin_data['Bitcoin_binary']\n",
        "\n",
        "# Combine datasets\n",
        "combined_features = pd.concat([ddos_features, bitcoin_features], ignore_index=True)\n",
        "\n",
        "# Feature scaling\n",
        "scaler = StandardScaler()\n",
        "X = combined_features.drop(columns=['Label'])\n",
        "X_scaled = scaler.fit_transform(X)\n",
        "y = combined_features['Label']\n",
        "\n",
        "# Train-test split\n",
        "X_train, X_test, y_train, y_test = train_test_split(X_scaled, y, test_size=0.2, random_state=42)\n",
        "\n",
        "# Reshape for LSTM\n",
        "X_train_lstm = np.reshape(X_train, (X_train.shape[0], 1, X_train.shape[1]))\n",
        "X_test_lstm = np.reshape(X_test, (X_test.shape[0], 1, X_test.shape[1]))\n"
      ],
      "metadata": {
        "id": "_e-vEJBPucp6"
      },
      "execution_count": null,
      "outputs": []
    },
    {
      "cell_type": "code",
      "source": [
        "import os\n",
        "\n",
        "print(os.path.exists(ddos_path))  # Should return True if the file exists\n",
        "print(os.path.exists(bitcoin_path))"
      ],
      "metadata": {
        "colab": {
          "base_uri": "https://localhost:8080/"
        },
        "id": "XL7md1Xzvn97",
        "outputId": "db6bc162-8f1d-4bd6-a029-f9d8959ed2b9"
      },
      "execution_count": null,
      "outputs": [
        {
          "output_type": "stream",
          "name": "stdout",
          "text": [
            "True\n",
            "True\n"
          ]
        }
      ]
    },
    {
      "cell_type": "code",
      "source": [
        "first_10_rows = combined_features.head(10)\n",
        "print(first_10_rows)"
      ],
      "metadata": {
        "colab": {
          "base_uri": "https://localhost:8080/"
        },
        "id": "ftmsiEw4Jmzm",
        "outputId": "a11f1c4b-961a-41c3-d7af-a95b3f96caad"
      },
      "execution_count": null,
      "outputs": [
        {
          "output_type": "stream",
          "name": "stdout",
          "text": [
            "   Flow Duration  Total Fwd Packets  Total Backward Packets  \\\n",
            "0       216631.0                  6                       0   \n",
            "1            2.0                  2                       0   \n",
            "2           48.0                  2                       0   \n",
            "3       107319.0                  4                       0   \n",
            "4       107271.0                  4                       0   \n",
            "5           48.0                  2                       0   \n",
            "6            1.0                  2                       0   \n",
            "7       109142.0                  4                       0   \n",
            "8            1.0                  2                       0   \n",
            "9       215834.0                  6                       0   \n",
            "\n",
            "   Fwd Packets Length Total  Bwd Packets Length Total  Flow Bytes/s  \\\n",
            "0                    2088.0                       0.0  9.638510e+03   \n",
            "1                     802.0                       0.0  4.010000e+08   \n",
            "2                     766.0                       0.0  1.595833e+07   \n",
            "3                    1398.0                       0.0  1.302658e+04   \n",
            "4                    1438.0                       0.0  1.340530e+04   \n",
            "5                     802.0                       0.0  1.670833e+07   \n",
            "6                     766.0                       0.0  7.660000e+08   \n",
            "7                    1438.0                       0.0  1.317550e+04   \n",
            "8                     802.0                       0.0  8.020000e+08   \n",
            "9                    2088.0                       0.0  9.674102e+03   \n",
            "\n",
            "   Flow Packets/s  Label  \n",
            "0    2.769687e+01      1  \n",
            "1    1.000000e+06      1  \n",
            "2    4.166667e+04      1  \n",
            "3    3.727206e+01      1  \n",
            "4    3.728873e+01      1  \n",
            "5    4.166667e+04      1  \n",
            "6    2.000000e+06      1  \n",
            "7    3.664950e+01      1  \n",
            "8    2.000000e+06      1  \n",
            "9    2.779914e+01      1  \n"
          ]
        }
      ]
    },
    {
      "cell_type": "code",
      "source": [
        "# Save the combined features to a CSV file\n",
        "combined_features.to_csv('/content/combined_features.csv', index=False)\n",
        "\n",
        "# Optionally, display the file path where it was saved\n",
        "print(\"File saved as /content/combined_features.csv\")"
      ],
      "metadata": {
        "colab": {
          "base_uri": "https://localhost:8080/"
        },
        "id": "0hpg3CPoK-6c",
        "outputId": "12bda1f6-ab19-47a8-e448-e80a252a8d7a"
      },
      "execution_count": null,
      "outputs": [
        {
          "output_type": "stream",
          "name": "stdout",
          "text": [
            "File saved as /content/combined_features.csv\n"
          ]
        }
      ]
    },
    {
      "cell_type": "code",
      "source": [
        "from google.colab import files\n",
        "files.download('/content/combined_features.csv')"
      ],
      "metadata": {
        "colab": {
          "base_uri": "https://localhost:8080/",
          "height": 34
        },
        "id": "nRDjlaLgLnAv",
        "outputId": "b577f2b9-91fe-465f-8e5e-ebece0f0d15e"
      },
      "execution_count": null,
      "outputs": [
        {
          "output_type": "display_data",
          "data": {
            "text/plain": [
              "<IPython.core.display.Javascript object>"
            ],
            "application/javascript": [
              "\n",
              "    async function download(id, filename, size) {\n",
              "      if (!google.colab.kernel.accessAllowed) {\n",
              "        return;\n",
              "      }\n",
              "      const div = document.createElement('div');\n",
              "      const label = document.createElement('label');\n",
              "      label.textContent = `Downloading \"${filename}\": `;\n",
              "      div.appendChild(label);\n",
              "      const progress = document.createElement('progress');\n",
              "      progress.max = size;\n",
              "      div.appendChild(progress);\n",
              "      document.body.appendChild(div);\n",
              "\n",
              "      const buffers = [];\n",
              "      let downloaded = 0;\n",
              "\n",
              "      const channel = await google.colab.kernel.comms.open(id);\n",
              "      // Send a message to notify the kernel that we're ready.\n",
              "      channel.send({})\n",
              "\n",
              "      for await (const message of channel.messages) {\n",
              "        // Send a message to notify the kernel that we're ready.\n",
              "        channel.send({})\n",
              "        if (message.buffers) {\n",
              "          for (const buffer of message.buffers) {\n",
              "            buffers.push(buffer);\n",
              "            downloaded += buffer.byteLength;\n",
              "            progress.value = downloaded;\n",
              "          }\n",
              "        }\n",
              "      }\n",
              "      const blob = new Blob(buffers, {type: 'application/binary'});\n",
              "      const a = document.createElement('a');\n",
              "      a.href = window.URL.createObjectURL(blob);\n",
              "      a.download = filename;\n",
              "      div.appendChild(a);\n",
              "      a.click();\n",
              "      div.remove();\n",
              "    }\n",
              "  "
            ]
          },
          "metadata": {}
        },
        {
          "output_type": "display_data",
          "data": {
            "text/plain": [
              "<IPython.core.display.Javascript object>"
            ],
            "application/javascript": [
              "download(\"download_532bae96-b23e-45f0-9b14-6700596015a2\", \"combined_features.csv\", 24336516)"
            ]
          },
          "metadata": {}
        }
      ]
    },
    {
      "cell_type": "code",
      "source": [
        "import pandas as pd\n",
        "from sklearn.model_selection import train_test_split\n",
        "\n",
        "# Example: Load combined dataset\n",
        "combined = pd.read_csv('/content/combined_features.csv')\n",
        "\n",
        "# If you already have labels in your dataset (e.g., last column)\n",
        "# Separate features and labels\n",
        "X = combined.drop('Label', axis=1)  # Replace 'label' with your actual column name\n",
        "y = combined['Label']\n",
        "\n",
        "# Split the data (80% training, 20% testing)\n",
        "X_train, X_test, y_train, y_test = train_test_split(X, y, test_size=0.2, random_state=42)\n",
        "\n",
        "# Optionally save to CSVs\n",
        "X_train.to_csv('/content/X_train.csv', index=False)\n",
        "X_test.to_csv('/content/X_test.csv', index=False)\n",
        "y_train.to_csv('/content/y_train.csv', index=False)\n",
        "y_test.to_csv('/content/y_test.csv', index=False)\n",
        "\n",
        "# Download files (if using Colab)\n",
        "from google.colab import files\n",
        "files.download('/content/X_train.csv')\n",
        "files.download('/content/X_test.csv')\n",
        "files.download('/content/y_train.csv')\n",
        "files.download('/content/y_test.csv')"
      ],
      "metadata": {
        "colab": {
          "base_uri": "https://localhost:8080/",
          "height": 86
        },
        "id": "6JgrdLyQPhRI",
        "outputId": "2c75271e-f179-41d8-bff3-492f5a049d45"
      },
      "execution_count": null,
      "outputs": [
        {
          "output_type": "display_data",
          "data": {
            "text/plain": [
              "<IPython.core.display.Javascript object>"
            ],
            "application/javascript": [
              "\n",
              "    async function download(id, filename, size) {\n",
              "      if (!google.colab.kernel.accessAllowed) {\n",
              "        return;\n",
              "      }\n",
              "      const div = document.createElement('div');\n",
              "      const label = document.createElement('label');\n",
              "      label.textContent = `Downloading \"${filename}\": `;\n",
              "      div.appendChild(label);\n",
              "      const progress = document.createElement('progress');\n",
              "      progress.max = size;\n",
              "      div.appendChild(progress);\n",
              "      document.body.appendChild(div);\n",
              "\n",
              "      const buffers = [];\n",
              "      let downloaded = 0;\n",
              "\n",
              "      const channel = await google.colab.kernel.comms.open(id);\n",
              "      // Send a message to notify the kernel that we're ready.\n",
              "      channel.send({})\n",
              "\n",
              "      for await (const message of channel.messages) {\n",
              "        // Send a message to notify the kernel that we're ready.\n",
              "        channel.send({})\n",
              "        if (message.buffers) {\n",
              "          for (const buffer of message.buffers) {\n",
              "            buffers.push(buffer);\n",
              "            downloaded += buffer.byteLength;\n",
              "            progress.value = downloaded;\n",
              "          }\n",
              "        }\n",
              "      }\n",
              "      const blob = new Blob(buffers, {type: 'application/binary'});\n",
              "      const a = document.createElement('a');\n",
              "      a.href = window.URL.createObjectURL(blob);\n",
              "      a.download = filename;\n",
              "      div.appendChild(a);\n",
              "      a.click();\n",
              "      div.remove();\n",
              "    }\n",
              "  "
            ]
          },
          "metadata": {}
        },
        {
          "output_type": "display_data",
          "data": {
            "text/plain": [
              "<IPython.core.display.Javascript object>"
            ],
            "application/javascript": [
              "download(\"download_a6c3a2c9-cdca-422e-8e48-5108ac2a8f03\", \"X_train.csv\", 18536049)"
            ]
          },
          "metadata": {}
        },
        {
          "output_type": "display_data",
          "data": {
            "text/plain": [
              "<IPython.core.display.Javascript object>"
            ],
            "application/javascript": [
              "\n",
              "    async function download(id, filename, size) {\n",
              "      if (!google.colab.kernel.accessAllowed) {\n",
              "        return;\n",
              "      }\n",
              "      const div = document.createElement('div');\n",
              "      const label = document.createElement('label');\n",
              "      label.textContent = `Downloading \"${filename}\": `;\n",
              "      div.appendChild(label);\n",
              "      const progress = document.createElement('progress');\n",
              "      progress.max = size;\n",
              "      div.appendChild(progress);\n",
              "      document.body.appendChild(div);\n",
              "\n",
              "      const buffers = [];\n",
              "      let downloaded = 0;\n",
              "\n",
              "      const channel = await google.colab.kernel.comms.open(id);\n",
              "      // Send a message to notify the kernel that we're ready.\n",
              "      channel.send({})\n",
              "\n",
              "      for await (const message of channel.messages) {\n",
              "        // Send a message to notify the kernel that we're ready.\n",
              "        channel.send({})\n",
              "        if (message.buffers) {\n",
              "          for (const buffer of message.buffers) {\n",
              "            buffers.push(buffer);\n",
              "            downloaded += buffer.byteLength;\n",
              "            progress.value = downloaded;\n",
              "          }\n",
              "        }\n",
              "      }\n",
              "      const blob = new Blob(buffers, {type: 'application/binary'});\n",
              "      const a = document.createElement('a');\n",
              "      a.href = window.URL.createObjectURL(blob);\n",
              "      a.download = filename;\n",
              "      div.appendChild(a);\n",
              "      a.click();\n",
              "      div.remove();\n",
              "    }\n",
              "  "
            ]
          },
          "metadata": {}
        },
        {
          "output_type": "display_data",
          "data": {
            "text/plain": [
              "<IPython.core.display.Javascript object>"
            ],
            "application/javascript": [
              "download(\"download_177f4e46-e94c-46d7-863a-1216f51b90eb\", \"X_test.csv\", 4635442)"
            ]
          },
          "metadata": {}
        },
        {
          "output_type": "display_data",
          "data": {
            "text/plain": [
              "<IPython.core.display.Javascript object>"
            ],
            "application/javascript": [
              "\n",
              "    async function download(id, filename, size) {\n",
              "      if (!google.colab.kernel.accessAllowed) {\n",
              "        return;\n",
              "      }\n",
              "      const div = document.createElement('div');\n",
              "      const label = document.createElement('label');\n",
              "      label.textContent = `Downloading \"${filename}\": `;\n",
              "      div.appendChild(label);\n",
              "      const progress = document.createElement('progress');\n",
              "      progress.max = size;\n",
              "      div.appendChild(progress);\n",
              "      document.body.appendChild(div);\n",
              "\n",
              "      const buffers = [];\n",
              "      let downloaded = 0;\n",
              "\n",
              "      const channel = await google.colab.kernel.comms.open(id);\n",
              "      // Send a message to notify the kernel that we're ready.\n",
              "      channel.send({})\n",
              "\n",
              "      for await (const message of channel.messages) {\n",
              "        // Send a message to notify the kernel that we're ready.\n",
              "        channel.send({})\n",
              "        if (message.buffers) {\n",
              "          for (const buffer of message.buffers) {\n",
              "            buffers.push(buffer);\n",
              "            downloaded += buffer.byteLength;\n",
              "            progress.value = downloaded;\n",
              "          }\n",
              "        }\n",
              "      }\n",
              "      const blob = new Blob(buffers, {type: 'application/binary'});\n",
              "      const a = document.createElement('a');\n",
              "      a.href = window.URL.createObjectURL(blob);\n",
              "      a.download = filename;\n",
              "      div.appendChild(a);\n",
              "      a.click();\n",
              "      div.remove();\n",
              "    }\n",
              "  "
            ]
          },
          "metadata": {}
        },
        {
          "output_type": "display_data",
          "data": {
            "text/plain": [
              "<IPython.core.display.Javascript object>"
            ],
            "application/javascript": [
              "download(\"download_c85bca88-4b2e-47dd-b993-4621548f1018\", \"y_train.csv\", 932102)"
            ]
          },
          "metadata": {}
        },
        {
          "output_type": "display_data",
          "data": {
            "text/plain": [
              "<IPython.core.display.Javascript object>"
            ],
            "application/javascript": [
              "\n",
              "    async function download(id, filename, size) {\n",
              "      if (!google.colab.kernel.accessAllowed) {\n",
              "        return;\n",
              "      }\n",
              "      const div = document.createElement('div');\n",
              "      const label = document.createElement('label');\n",
              "      label.textContent = `Downloading \"${filename}\": `;\n",
              "      div.appendChild(label);\n",
              "      const progress = document.createElement('progress');\n",
              "      progress.max = size;\n",
              "      div.appendChild(progress);\n",
              "      document.body.appendChild(div);\n",
              "\n",
              "      const buffers = [];\n",
              "      let downloaded = 0;\n",
              "\n",
              "      const channel = await google.colab.kernel.comms.open(id);\n",
              "      // Send a message to notify the kernel that we're ready.\n",
              "      channel.send({})\n",
              "\n",
              "      for await (const message of channel.messages) {\n",
              "        // Send a message to notify the kernel that we're ready.\n",
              "        channel.send({})\n",
              "        if (message.buffers) {\n",
              "          for (const buffer of message.buffers) {\n",
              "            buffers.push(buffer);\n",
              "            downloaded += buffer.byteLength;\n",
              "            progress.value = downloaded;\n",
              "          }\n",
              "        }\n",
              "      }\n",
              "      const blob = new Blob(buffers, {type: 'application/binary'});\n",
              "      const a = document.createElement('a');\n",
              "      a.href = window.URL.createObjectURL(blob);\n",
              "      a.download = filename;\n",
              "      div.appendChild(a);\n",
              "      a.click();\n",
              "      div.remove();\n",
              "    }\n",
              "  "
            ]
          },
          "metadata": {}
        },
        {
          "output_type": "display_data",
          "data": {
            "text/plain": [
              "<IPython.core.display.Javascript object>"
            ],
            "application/javascript": [
              "download(\"download_12d08843-fd35-4742-b3a6-febcf7a09b4b\", \"y_test.csv\", 233032)"
            ]
          },
          "metadata": {}
        }
      ]
    },
    {
      "cell_type": "code",
      "source": [
        "from tensorflow.keras.models import Sequential\n",
        "from tensorflow.keras.layers import LSTM, Dense\n",
        "import tensorflow as tf\n",
        "\n",
        "# Build LSTM model\n",
        "model = Sequential()\n",
        "model.add(LSTM(units=50, return_sequences=False, input_shape=(X_train_lstm.shape[1], X_train_lstm.shape[2])))\n",
        "model.add(Dense(units=1, activation='sigmoid'))\n",
        "model.compile(optimizer='adam', loss='binary_crossentropy', metrics=['accuracy'])\n",
        "\n",
        "# Train the model\n",
        "history = model.fit(X_train_lstm, y_train, epochs=15, batch_size=128, validation_split=0.2,\n",
        "                    callbacks=[tf.keras.callbacks.EarlyStopping(monitor='val_loss', patience=5, restore_best_weights=True)])\n",
        "\n",
        "model.save(\"lstm_model.h5\")\n",
        "print(\"LSTM model saved as 'lstm_model.h5'\")\n"
      ],
      "metadata": {
        "colab": {
          "base_uri": "https://localhost:8080/"
        },
        "id": "t1AeFbxhwMFK",
        "outputId": "2892f8fa-f068-46ad-ecb8-073c676f8c9a"
      },
      "execution_count": null,
      "outputs": [
        {
          "output_type": "stream",
          "name": "stdout",
          "text": [
            "Epoch 1/15\n"
          ]
        },
        {
          "output_type": "stream",
          "name": "stderr",
          "text": [
            "/usr/local/lib/python3.11/dist-packages/keras/src/layers/rnn/rnn.py:200: UserWarning: Do not pass an `input_shape`/`input_dim` argument to a layer. When using Sequential models, prefer using an `Input(shape)` object as the first layer in the model instead.\n",
            "  super().__init__(**kwargs)\n"
          ]
        },
        {
          "output_type": "stream",
          "name": "stdout",
          "text": [
            "\u001b[1m2913/2913\u001b[0m \u001b[32m━━━━━━━━━━━━━━━━━━━━\u001b[0m\u001b[37m\u001b[0m \u001b[1m13s\u001b[0m 4ms/step - accuracy: 0.8656 - loss: 0.3707 - val_accuracy: 0.9522 - val_loss: 0.1490\n",
            "Epoch 2/15\n",
            "\u001b[1m2913/2913\u001b[0m \u001b[32m━━━━━━━━━━━━━━━━━━━━\u001b[0m\u001b[37m\u001b[0m \u001b[1m20s\u001b[0m 4ms/step - accuracy: 0.9517 - loss: 0.1415 - val_accuracy: 0.9541 - val_loss: 0.1283\n",
            "Epoch 3/15\n",
            "\u001b[1m2913/2913\u001b[0m \u001b[32m━━━━━━━━━━━━━━━━━━━━\u001b[0m\u001b[37m\u001b[0m \u001b[1m10s\u001b[0m 4ms/step - accuracy: 0.9541 - loss: 0.1225 - val_accuracy: 0.9557 - val_loss: 0.1207\n",
            "Epoch 4/15\n",
            "\u001b[1m2913/2913\u001b[0m \u001b[32m━━━━━━━━━━━━━━━━━━━━\u001b[0m\u001b[37m\u001b[0m \u001b[1m10s\u001b[0m 3ms/step - accuracy: 0.9557 - loss: 0.1183 - val_accuracy: 0.9574 - val_loss: 0.1179\n",
            "Epoch 5/15\n",
            "\u001b[1m2913/2913\u001b[0m \u001b[32m━━━━━━━━━━━━━━━━━━━━\u001b[0m\u001b[37m\u001b[0m \u001b[1m9s\u001b[0m 3ms/step - accuracy: 0.9568 - loss: 0.1162 - val_accuracy: 0.9555 - val_loss: 0.1154\n",
            "Epoch 6/15\n",
            "\u001b[1m2913/2913\u001b[0m \u001b[32m━━━━━━━━━━━━━━━━━━━━\u001b[0m\u001b[37m\u001b[0m \u001b[1m11s\u001b[0m 3ms/step - accuracy: 0.9572 - loss: 0.1140 - val_accuracy: 0.9551 - val_loss: 0.1139\n",
            "Epoch 7/15\n",
            "\u001b[1m2913/2913\u001b[0m \u001b[32m━━━━━━━━━━━━━━━━━━━━\u001b[0m\u001b[37m\u001b[0m \u001b[1m10s\u001b[0m 4ms/step - accuracy: 0.9571 - loss: 0.1122 - val_accuracy: 0.9590 - val_loss: 0.1133\n",
            "Epoch 8/15\n",
            "\u001b[1m2913/2913\u001b[0m \u001b[32m━━━━━━━━━━━━━━━━━━━━\u001b[0m\u001b[37m\u001b[0m \u001b[1m10s\u001b[0m 3ms/step - accuracy: 0.9583 - loss: 0.1112 - val_accuracy: 0.9577 - val_loss: 0.1109\n",
            "Epoch 9/15\n",
            "\u001b[1m2913/2913\u001b[0m \u001b[32m━━━━━━━━━━━━━━━━━━━━\u001b[0m\u001b[37m\u001b[0m \u001b[1m9s\u001b[0m 3ms/step - accuracy: 0.9593 - loss: 0.1084 - val_accuracy: 0.9599 - val_loss: 0.1099\n",
            "Epoch 10/15\n",
            "\u001b[1m2913/2913\u001b[0m \u001b[32m━━━━━━━━━━━━━━━━━━━━\u001b[0m\u001b[37m\u001b[0m \u001b[1m13s\u001b[0m 4ms/step - accuracy: 0.9592 - loss: 0.1086 - val_accuracy: 0.9592 - val_loss: 0.1077\n",
            "Epoch 11/15\n",
            "\u001b[1m2913/2913\u001b[0m \u001b[32m━━━━━━━━━━━━━━━━━━━━\u001b[0m\u001b[37m\u001b[0m \u001b[1m10s\u001b[0m 3ms/step - accuracy: 0.9601 - loss: 0.1069 - val_accuracy: 0.9605 - val_loss: 0.1066\n",
            "Epoch 12/15\n",
            "\u001b[1m2913/2913\u001b[0m \u001b[32m━━━━━━━━━━━━━━━━━━━━\u001b[0m\u001b[37m\u001b[0m \u001b[1m10s\u001b[0m 3ms/step - accuracy: 0.9609 - loss: 0.1049 - val_accuracy: 0.9583 - val_loss: 0.1083\n",
            "Epoch 13/15\n",
            "\u001b[1m2913/2913\u001b[0m \u001b[32m━━━━━━━━━━━━━━━━━━━━\u001b[0m\u001b[37m\u001b[0m \u001b[1m9s\u001b[0m 3ms/step - accuracy: 0.9615 - loss: 0.1039 - val_accuracy: 0.9616 - val_loss: 0.1040\n",
            "Epoch 14/15\n",
            "\u001b[1m2913/2913\u001b[0m \u001b[32m━━━━━━━━━━━━━━━━━━━━\u001b[0m\u001b[37m\u001b[0m \u001b[1m11s\u001b[0m 3ms/step - accuracy: 0.9615 - loss: 0.1042 - val_accuracy: 0.9623 - val_loss: 0.1030\n",
            "Epoch 15/15\n",
            "\u001b[1m2913/2913\u001b[0m \u001b[32m━━━━━━━━━━━━━━━━━━━━\u001b[0m\u001b[37m\u001b[0m \u001b[1m10s\u001b[0m 3ms/step - accuracy: 0.9626 - loss: 0.1026 - val_accuracy: 0.9626 - val_loss: 0.1020\n"
          ]
        },
        {
          "output_type": "stream",
          "name": "stderr",
          "text": [
            "WARNING:absl:You are saving your model as an HDF5 file via `model.save()` or `keras.saving.save_model(model)`. This file format is considered legacy. We recommend using instead the native Keras format, e.g. `model.save('my_model.keras')` or `keras.saving.save_model(model, 'my_model.keras')`. \n"
          ]
        },
        {
          "output_type": "stream",
          "name": "stdout",
          "text": [
            "LSTM model saved as 'lstm_model.h5'\n"
          ]
        }
      ]
    },
    {
      "cell_type": "code",
      "source": [
        "from sklearn.metrics import accuracy_score, classification_report, roc_curve, auc\n",
        "import matplotlib.pyplot as plt\n",
        "import numpy as np\n",
        "import seaborn as sns\n",
        "import pandas as pd\n",
        "from sklearn.metrics import confusion_matrix, classification_report, roc_curve, auc\n",
        "from sklearn.metrics import classification_report, roc_curve, auc, confusion_matrix\n",
        "\n",
        "# Evaluate the model\n",
        "y_pred = (model.predict(X_test_lstm) > 0.5).astype(\"int32\")\n",
        "accuracy = accuracy_score(y_test, y_pred)\n",
        "print(f'Accuracy: {accuracy * 100:.2f}%')\n",
        "\n",
        "# Classification Report\n",
        "report = classification_report(y_test, y_pred, output_dict=True)\n",
        "report_df = pd.DataFrame(report).transpose()\n",
        "print(report_df)\n",
        "\n",
        "# plt.figure(figsize=(10, 6))\n",
        "plt.plot(history.history['loss'], label='Training Loss', linestyle='-', marker='o', color='blue', alpha=0.7)\n",
        "plt.plot(history.history['val_loss'], label='Validation Loss', linestyle='--', marker='s', color='red', alpha=0.7)\n",
        "plt.title('LSTM Model Loss', fontsize=14)\n",
        "plt.xlabel('Epochs', fontsize=12)\n",
        "plt.ylabel('Loss', fontsize=12)\n",
        "plt.legend()\n",
        "plt.grid(True, linestyle='--', alpha=0.5)\n",
        "plt.show()\n",
        "\n",
        "# Plot Training and Validation Accuracy\n",
        "plt.figure(figsize=(10, 6))\n",
        "plt.plot(history.history['accuracy'], label='Training Accuracy', linestyle='-', marker='o', color='green', alpha=0.7)\n",
        "plt.plot(history.history['val_accuracy'], label='Validation Accuracy', linestyle='--', marker='s', color='orange', alpha=0.7)\n",
        "plt.title('LSTM Model Accuracy', fontsize=14)\n",
        "plt.xlabel('Epochs', fontsize=12)\n",
        "plt.ylabel('Accuracy', fontsize=12)\n",
        "plt.legend()\n",
        "plt.grid(True, linestyle='--', alpha=0.5)\n",
        "plt.show()\n",
        "\n",
        "# Classification Report\n",
        "report = classification_report(y_test, y_pred, output_dict=True)\n",
        "report_df = pd.DataFrame(report).transpose()\n",
        "print(report_df)\n",
        "\n",
        "# plt.figure(figsize=(10, 6))\n",
        "plt.plot(history.history['loss'], label='Training Loss', linestyle='-', marker='o', color='blue', alpha=0.7)\n",
        "plt.plot(history.history['val_loss'], label='Validation Loss', linestyle='--', marker='s', color='red', alpha=0.7)\n",
        "plt.title('LSTM Model Loss', fontsize=14)\n",
        "plt.xlabel('Epochs', fontsize=12)\n",
        "plt.ylabel('Loss', fontsize=12)\n",
        "plt.legend()\n",
        "plt.grid(True, linestyle='--', alpha=0.5)\n",
        "plt.show()\n",
        "\n",
        "# Plot Training and Validation Accuracy\n",
        "plt.figure(figsize=(10, 6))\n",
        "plt.plot(history.history['accuracy'], label='Training Accuracy', linestyle='-', marker='o', color='green', alpha=0.7)\n",
        "plt.plot(history.history['val_accuracy'], label='Validation Accuracy', linestyle='--', marker='s', color='orange', alpha=0.7)\n",
        "plt.title('LSTM Model Accuracy', fontsize=14)\n",
        "plt.xlabel('Epochs', fontsize=12)\n",
        "plt.ylabel('Accuracy', fontsize=12)\n",
        "plt.legend()\n",
        "plt.grid(True, linestyle='--', alpha=0.5)\n",
        "plt.show()\n",
        "\n",
        "# Classification Report\n",
        "report = classification_report(y_test, y_pred, output_dict=True)\n",
        "report_df = pd.DataFrame(report).transpose()\n",
        "print(report_df)\n",
        "\n",
        "# # Confusion Matrix Visualization\n",
        "# conf_matrix = confusion_matrix(y_test, y_pred)\n",
        "# plt.figure(figsize=(8, 6))\n",
        "# sns.heatmap(conf_matrix, annot=True, fmt=\"d\", cmap=\"Blues\", cbar=False)\n",
        "# plt.title(\"Confusion Matrix\", fontsize=14)\n",
        "# plt.xlabel(\"Predicted Label\", fontsize=12)\n",
        "# plt.ylabel(\"True Label\", fontsize=12)\n",
        "# plt.show()\n",
        "\n",
        "# # ROC Curve\n",
        "# y_pred_prob = model.predict(X_test_lstm).ravel()\n",
        "# fpr, tpr, _ = roc_curve(y_test, y_pred_prob)\n",
        "# roc_auc = auc(fpr, tpr)\n",
        "# plt.figure(figsize=(8, 6))\n",
        "# plt.plot(fpr, tpr, label=f'AUC = {roc_auc:.2f}', color='darkorange', linewidth=2)\n",
        "# plt.plot([0, 1], [0, 1], linestyle='--', color='gray')\n",
        "# plt.title('Receiver Operating Characteristic (ROC) Curve', fontsize=14)\n",
        "# plt.xlabel('False Positive Rate', fontsize=12)\n",
        "# plt.ylabel('True Positive Rate', fontsize=12)\n",
        "# plt.legend(loc='lower right')\n",
        "# plt.grid(True, linestyle='--', alpha=0.5)\n",
        "# plt.show()\n"
      ],
      "metadata": {
        "id": "RNlTWeLtxOa2",
        "outputId": "f31af4d6-a4f6-4768-f423-e2cc2b5dcce5",
        "colab": {
          "base_uri": "https://localhost:8080/",
          "height": 211
        }
      },
      "execution_count": null,
      "outputs": [
        {
          "output_type": "error",
          "ename": "NameError",
          "evalue": "name 'model' is not defined",
          "traceback": [
            "\u001b[0;31m---------------------------------------------------------------------------\u001b[0m",
            "\u001b[0;31mNameError\u001b[0m                                 Traceback (most recent call last)",
            "\u001b[0;32m<ipython-input-3-f4856b22a2bb>\u001b[0m in \u001b[0;36m<cell line: 0>\u001b[0;34m()\u001b[0m\n\u001b[1;32m      8\u001b[0m \u001b[0;34m\u001b[0m\u001b[0m\n\u001b[1;32m      9\u001b[0m \u001b[0;31m# Evaluate the model\u001b[0m\u001b[0;34m\u001b[0m\u001b[0;34m\u001b[0m\u001b[0m\n\u001b[0;32m---> 10\u001b[0;31m \u001b[0my_pred\u001b[0m \u001b[0;34m=\u001b[0m \u001b[0;34m(\u001b[0m\u001b[0mmodel\u001b[0m\u001b[0;34m.\u001b[0m\u001b[0mpredict\u001b[0m\u001b[0;34m(\u001b[0m\u001b[0mX_test_lstm\u001b[0m\u001b[0;34m)\u001b[0m \u001b[0;34m>\u001b[0m \u001b[0;36m0.5\u001b[0m\u001b[0;34m)\u001b[0m\u001b[0;34m.\u001b[0m\u001b[0mastype\u001b[0m\u001b[0;34m(\u001b[0m\u001b[0;34m\"int32\"\u001b[0m\u001b[0;34m)\u001b[0m\u001b[0;34m\u001b[0m\u001b[0;34m\u001b[0m\u001b[0m\n\u001b[0m\u001b[1;32m     11\u001b[0m \u001b[0maccuracy\u001b[0m \u001b[0;34m=\u001b[0m \u001b[0maccuracy_score\u001b[0m\u001b[0;34m(\u001b[0m\u001b[0my_test\u001b[0m\u001b[0;34m,\u001b[0m \u001b[0my_pred\u001b[0m\u001b[0;34m)\u001b[0m\u001b[0;34m\u001b[0m\u001b[0;34m\u001b[0m\u001b[0m\n\u001b[1;32m     12\u001b[0m \u001b[0mprint\u001b[0m\u001b[0;34m(\u001b[0m\u001b[0;34mf'Accuracy: {accuracy * 100:.2f}%'\u001b[0m\u001b[0;34m)\u001b[0m\u001b[0;34m\u001b[0m\u001b[0;34m\u001b[0m\u001b[0m\n",
            "\u001b[0;31mNameError\u001b[0m: name 'model' is not defined"
          ]
        }
      ]
    },
    {
      "cell_type": "markdown",
      "source": [
        "CNN MODEL"
      ],
      "metadata": {
        "id": "XR-IBThMzWlb"
      }
    },
    {
      "cell_type": "markdown",
      "source": [
        "PREPROCESSING"
      ],
      "metadata": {
        "id": "1ML2J0bQzYs9"
      }
    },
    {
      "cell_type": "code",
      "source": [
        "import pandas as pd\n",
        "import numpy as np\n",
        "from sklearn.model_selection import train_test_split\n",
        "from sklearn.preprocessing import StandardScaler\n",
        "\n",
        "# Set paths to datasets\n",
        "ddos_path = '/content/drive/MyDrive/dataset/cicddos2019_dataset.csv'\n",
        "bitcoin_path = '/content/drive/MyDrive/dataset/bitcoin.csv'\n",
        "\n",
        "# Load datasets\n",
        "ddos_data = pd.read_csv(ddos_path)\n",
        "bitcoin_data = pd.read_csv(bitcoin_path)\n",
        "\n",
        "# Preprocess DDoS dataset\n",
        "ddos_data = ddos_data.dropna()\n",
        "ddos_data['DDoS_binary'] = (ddos_data['Class'] == 'Attack').astype(int)\n",
        "ddos_features = ddos_data[[\n",
        "    'Flow Duration', 'Total Fwd Packets', 'Total Backward Packets',\n",
        "    'Fwd Packets Length Total', 'Bwd Packets Length Total',\n",
        "    'Flow Bytes/s', 'Flow Packets/s'\n",
        "]].copy()\n",
        "ddos_features['Label'] = ddos_data['DDoS_binary']\n",
        "\n",
        "# Preprocess Bitcoin dataset\n",
        "bitcoin_data = bitcoin_data.drop(columns=['tx_hash'], errors='ignore')\n",
        "bitcoin_data = bitcoin_data.apply(pd.to_numeric, errors='coerce')\n",
        "bitcoin_data = bitcoin_data.dropna()\n",
        "bitcoin_threshold = bitcoin_data['indegree'].median()\n",
        "bitcoin_data['Bitcoin_binary'] = (bitcoin_data['indegree'] > bitcoin_threshold).astype(int)\n",
        "bitcoin_features = bitcoin_data[[\n",
        "    'indegree', 'outdegree', 'in_btc', 'out_btc',\n",
        "    'total_btc', 'mean_in_btc', 'mean_out_btc'\n",
        "]].copy()\n",
        "bitcoin_features.rename(columns={\n",
        "    'indegree': 'Total Fwd Packets',\n",
        "    'outdegree': 'Total Backward Packets',\n",
        "    'in_btc': 'Fwd Packets Length Total',\n",
        "    'out_btc': 'Bwd Packets Length Total',\n",
        "    'total_btc': 'Flow Duration',\n",
        "    'mean_in_btc': 'Flow Bytes/s',\n",
        "    'mean_out_btc': 'Flow Packets/s'\n",
        "}, inplace=True)\n",
        "bitcoin_features['Label'] = bitcoin_data['Bitcoin_binary']\n",
        "\n",
        "# Combine datasets\n",
        "combined_features = pd.concat([ddos_features, bitcoin_features], ignore_index=True)\n",
        "\n",
        "# Separate features and labels\n",
        "X = combined_features.drop(columns=['Label'])\n",
        "y = combined_features['Label']\n",
        "\n",
        "# Standardize features\n",
        "scaler = StandardScaler()\n",
        "X_scaled = scaler.fit_transform(X)\n",
        "\n",
        "# Train-test split\n",
        "X_train, X_test, y_train, y_test = train_test_split(X_scaled, y, test_size=0.2, random_state=42)\n",
        "\n",
        "# Reshape for CNN\n",
        "X_train_cnn = np.expand_dims(X_train, axis=2)\n",
        "X_test_cnn = np.expand_dims(X_test, axis=2)\n",
        "\n",
        "print(\"Preprocessing completed successfully!\")\n"
      ],
      "metadata": {
        "colab": {
          "base_uri": "https://localhost:8080/"
        },
        "id": "PHsWJ1kJjNvA",
        "outputId": "52c02cf7-1465-421c-ba66-ec4c483d544e"
      },
      "execution_count": null,
      "outputs": [
        {
          "output_type": "stream",
          "name": "stdout",
          "text": [
            "Preprocessing completed successfully!\n"
          ]
        }
      ]
    },
    {
      "cell_type": "markdown",
      "source": [],
      "metadata": {
        "id": "LolpxXXzzbP0"
      }
    },
    {
      "cell_type": "code",
      "source": [
        "from tensorflow.keras.models import Sequential\n",
        "from tensorflow.keras.layers import Conv1D, MaxPooling1D, Flatten, Dense, Dropout\n",
        "\n",
        "# Build CNN model\n",
        "cnn_model = Sequential()\n",
        "cnn_model.add(Conv1D(filters=64, kernel_size=3, activation='relu', input_shape=(X_train.shape[1], 1), padding='same')) # Add padding='same'\n",
        "cnn_model.add(MaxPooling1D(pool_size=2))\n",
        "cnn_model.add(Dropout(0.3))\n",
        "cnn_model.add(Conv1D(filters=32, kernel_size=3, activation='relu', padding='same')) # Add padding='same'\n",
        "cnn_model.add(MaxPooling1D(pool_size=2))\n",
        "cnn_model.add(Flatten())\n",
        "cnn_model.add(Dense(128, activation='relu'))\n",
        "cnn_model.add(Dropout(0.3))\n",
        "cnn_model.add(Dense(1, activation='sigmoid'))\n",
        "\n",
        "# Compile the model\n",
        "cnn_model.compile(optimizer='adam', loss='binary_crossentropy', metrics=['accuracy'])\n",
        "\n",
        "print(\"CNN model built and compiled successfully!\")"
      ],
      "metadata": {
        "colab": {
          "base_uri": "https://localhost:8080/"
        },
        "id": "Qj8OM6agjU8P",
        "outputId": "d2dea2b8-e1fe-41f7-cc5e-49b98dd41821"
      },
      "execution_count": null,
      "outputs": [
        {
          "output_type": "stream",
          "name": "stdout",
          "text": [
            "CNN model built and compiled successfully!\n"
          ]
        },
        {
          "output_type": "stream",
          "name": "stderr",
          "text": [
            "/usr/local/lib/python3.11/dist-packages/keras/src/layers/convolutional/base_conv.py:107: UserWarning: Do not pass an `input_shape`/`input_dim` argument to a layer. When using Sequential models, prefer using an `Input(shape)` object as the first layer in the model instead.\n",
            "  super().__init__(activity_regularizer=activity_regularizer, **kwargs)\n"
          ]
        }
      ]
    },
    {
      "cell_type": "markdown",
      "source": [
        "TRAINING"
      ],
      "metadata": {
        "id": "V-NhAXhPzfQ7"
      }
    },
    {
      "cell_type": "code",
      "source": [
        "import numpy as np\n",
        "import tensorflow as tf\n",
        "\n",
        "# Reshape data for CNN\n",
        "X_train_cnn = np.expand_dims(X_train, axis=2)\n",
        "X_test_cnn = np.expand_dims(X_test, axis=2)\n",
        "\n",
        "# Train the CNN model\n",
        "cnn_history = cnn_model.fit(\n",
        "    X_train_cnn, y_train,\n",
        "    epochs=15,\n",
        "    batch_size=128,\n",
        "    validation_split=0.2,\n",
        "    callbacks=[tf.keras.callbacks.EarlyStopping(monitor='val_loss', patience=5, restore_best_weights=True)]\n",
        ")\n",
        "\n",
        "print(\"CNN model trained successfully!\")\n",
        "\n",
        "cnn_model.save('cnn_model.h5', save_format='h5', include_optimizer=False)\n",
        "print(\"CNN model saved as 'cnn_model.h5'\")\n",
        "import joblib\n",
        "\n",
        "# Save scaler object\n",
        "joblib.dump(scaler, 'scaler.save')\n",
        "\n",
        "# Also print mean and scale for manual use\n",
        "print(\"Mean:\", scaler.mean_)\n",
        "print(\"Scale:\", scaler.scale_)"
      ],
      "metadata": {
        "colab": {
          "base_uri": "https://localhost:8080/"
        },
        "id": "fGlurX7CjZY0",
        "outputId": "ef909d88-80f7-4283-c5f1-ab1671fbafa9"
      },
      "execution_count": null,
      "outputs": [
        {
          "output_type": "stream",
          "name": "stdout",
          "text": [
            "Epoch 1/15\n",
            "\u001b[1m2913/2913\u001b[0m \u001b[32m━━━━━━━━━━━━━━━━━━━━\u001b[0m\u001b[37m\u001b[0m \u001b[1m27s\u001b[0m 8ms/step - accuracy: 0.9102 - loss: 0.2291 - val_accuracy: 0.9685 - val_loss: 0.0991\n",
            "Epoch 2/15\n",
            "\u001b[1m2913/2913\u001b[0m \u001b[32m━━━━━━━━━━━━━━━━━━━━\u001b[0m\u001b[37m\u001b[0m \u001b[1m37s\u001b[0m 7ms/step - accuracy: 0.9656 - loss: 0.1008 - val_accuracy: 0.9773 - val_loss: 0.0766\n",
            "Epoch 3/15\n",
            "\u001b[1m2913/2913\u001b[0m \u001b[32m━━━━━━━━━━━━━━━━━━━━\u001b[0m\u001b[37m\u001b[0m \u001b[1m21s\u001b[0m 7ms/step - accuracy: 0.9745 - loss: 0.0803 - val_accuracy: 0.9804 - val_loss: 0.0639\n",
            "Epoch 4/15\n",
            "\u001b[1m2913/2913\u001b[0m \u001b[32m━━━━━━━━━━━━━━━━━━━━\u001b[0m\u001b[37m\u001b[0m \u001b[1m20s\u001b[0m 7ms/step - accuracy: 0.9770 - loss: 0.0738 - val_accuracy: 0.9764 - val_loss: 0.0738\n",
            "Epoch 5/15\n",
            "\u001b[1m2913/2913\u001b[0m \u001b[32m━━━━━━━━━━━━━━━━━━━━\u001b[0m\u001b[37m\u001b[0m \u001b[1m24s\u001b[0m 8ms/step - accuracy: 0.9765 - loss: 0.0746 - val_accuracy: 0.9818 - val_loss: 0.0572\n",
            "Epoch 6/15\n",
            "\u001b[1m2913/2913\u001b[0m \u001b[32m━━━━━━━━━━━━━━━━━━━━\u001b[0m\u001b[37m\u001b[0m \u001b[1m36s\u001b[0m 7ms/step - accuracy: 0.9791 - loss: 0.0686 - val_accuracy: 0.9817 - val_loss: 0.0528\n",
            "Epoch 7/15\n",
            "\u001b[1m2913/2913\u001b[0m \u001b[32m━━━━━━━━━━━━━━━━━━━━\u001b[0m\u001b[37m\u001b[0m \u001b[1m20s\u001b[0m 7ms/step - accuracy: 0.9813 - loss: 0.0631 - val_accuracy: 0.9858 - val_loss: 0.0500\n",
            "Epoch 8/15\n",
            "\u001b[1m2913/2913\u001b[0m \u001b[32m━━━━━━━━━━━━━━━━━━━━\u001b[0m\u001b[37m\u001b[0m \u001b[1m20s\u001b[0m 6ms/step - accuracy: 0.9800 - loss: 0.0662 - val_accuracy: 0.9822 - val_loss: 0.0575\n",
            "Epoch 9/15\n",
            "\u001b[1m2913/2913\u001b[0m \u001b[32m━━━━━━━━━━━━━━━━━━━━\u001b[0m\u001b[37m\u001b[0m \u001b[1m21s\u001b[0m 6ms/step - accuracy: 0.9813 - loss: 0.0626 - val_accuracy: 0.9879 - val_loss: 0.0460\n",
            "Epoch 10/15\n",
            "\u001b[1m2913/2913\u001b[0m \u001b[32m━━━━━━━━━━━━━━━━━━━━\u001b[0m\u001b[37m\u001b[0m \u001b[1m19s\u001b[0m 6ms/step - accuracy: 0.9822 - loss: 0.0594 - val_accuracy: 0.9871 - val_loss: 0.0445\n",
            "Epoch 11/15\n",
            "\u001b[1m2913/2913\u001b[0m \u001b[32m━━━━━━━━━━━━━━━━━━━━\u001b[0m\u001b[37m\u001b[0m \u001b[1m20s\u001b[0m 7ms/step - accuracy: 0.9832 - loss: 0.0575 - val_accuracy: 0.9874 - val_loss: 0.0463\n",
            "Epoch 12/15\n",
            "\u001b[1m2913/2913\u001b[0m \u001b[32m━━━━━━━━━━━━━━━━━━━━\u001b[0m\u001b[37m\u001b[0m \u001b[1m19s\u001b[0m 7ms/step - accuracy: 0.9841 - loss: 0.0560 - val_accuracy: 0.9868 - val_loss: 0.0462\n",
            "Epoch 13/15\n",
            "\u001b[1m2913/2913\u001b[0m \u001b[32m━━━━━━━━━━━━━━━━━━━━\u001b[0m\u001b[37m\u001b[0m \u001b[1m21s\u001b[0m 7ms/step - accuracy: 0.9827 - loss: 0.0583 - val_accuracy: 0.9880 - val_loss: 0.0449\n",
            "Epoch 14/15\n",
            "\u001b[1m2913/2913\u001b[0m \u001b[32m━━━━━━━━━━━━━━━━━━━━\u001b[0m\u001b[37m\u001b[0m \u001b[1m19s\u001b[0m 7ms/step - accuracy: 0.9828 - loss: 0.0582 - val_accuracy: 0.9882 - val_loss: 0.0441\n",
            "Epoch 15/15\n",
            "\u001b[1m2913/2913\u001b[0m \u001b[32m━━━━━━━━━━━━━━━━━━━━\u001b[0m\u001b[37m\u001b[0m \u001b[1m20s\u001b[0m 7ms/step - accuracy: 0.9826 - loss: 0.0573 - val_accuracy: 0.9885 - val_loss: 0.0416\n"
          ]
        },
        {
          "output_type": "stream",
          "name": "stderr",
          "text": [
            "WARNING:absl:The `save_format` argument is deprecated in Keras 3. We recommend removing this argument as it can be inferred from the file path. Received: save_format=h5\n",
            "WARNING:absl:You are saving your model as an HDF5 file via `model.save()` or `keras.saving.save_model(model)`. This file format is considered legacy. We recommend using instead the native Keras format, e.g. `model.save('my_model.keras')` or `keras.saving.save_model(model, 'my_model.keras')`. \n"
          ]
        },
        {
          "output_type": "stream",
          "name": "stdout",
          "text": [
            "CNN model trained successfully!\n",
            "CNN model saved as 'cnn_model.h5'\n",
            "Mean: [6.22364171e+06 1.81834005e+01 2.14580104e+00 7.00549639e+03\n",
            " 1.24501256e+03 5.46007701e+07 9.38371584e+04]\n",
            "Scale: [1.86667158e+07 1.68916968e+02 4.85105743e+01 2.99348222e+04\n",
            " 9.15681868e+04 2.87808999e+08 3.60788534e+05]\n"
          ]
        }
      ]
    },
    {
      "cell_type": "markdown",
      "source": [
        "TESTING"
      ],
      "metadata": {
        "id": "Wr5lBZwXzh4V"
      }
    },
    {
      "cell_type": "code",
      "source": [
        "from sklearn.metrics import accuracy_score, classification_report, roc_curve, auc\n",
        "import matplotlib.pyplot as plt\n",
        "\n",
        "# Evaluate the model\n",
        "y_pred_cnn = (cnn_model.predict(X_test_cnn) > 0.5).astype(\"int32\")\n",
        "cnn_accuracy = accuracy_score(y_test, y_pred_cnn)\n",
        "print(f'CNN Model Accuracy: {cnn_accuracy * 100:.2f}%')\n",
        "\n",
        "# Classification Report\n",
        "cnn_report = classification_report(y_test, y_pred_cnn, output_dict=True)\n",
        "cnn_report_df = pd.DataFrame(cnn_report).transpose()\n",
        "print(cnn_report_df)\n",
        "\n",
        "# plt.figure(figsize=(10, 6))\n",
        "plt.plot(history.history['loss'], label='Training Loss', linestyle='-', marker='o', color='blue', alpha=0.7)\n",
        "plt.plot(history.history['val_loss'], label='Validation Loss', linestyle='--', marker='s', color='red', alpha=0.7)\n",
        "plt.title('CNN Model Loss', fontsize=14)\n",
        "plt.xlabel('Epochs', fontsize=12)\n",
        "plt.ylabel('Loss', fontsize=12)\n",
        "plt.legend()\n",
        "plt.grid(True, linestyle='--', alpha=0.5)\n",
        "plt.show()\n",
        "\n",
        "# Plot Training and Validation Accuracy\n",
        "plt.figure(figsize=(10, 6))\n",
        "plt.plot(history.history['accuracy'], label='Training Accuracy', linestyle='-', marker='o', color='green', alpha=0.7)\n",
        "plt.plot(history.history['val_accuracy'], label='Validation Accuracy', linestyle='--', marker='s', color='orange', alpha=0.7)\n",
        "plt.title('CNN Model Accuracy', fontsize=14)\n",
        "plt.xlabel('Epochs', fontsize=12)\n",
        "plt.ylabel('Accuracy', fontsize=12)\n",
        "plt.legend()\n",
        "plt.grid(True, linestyle='--', alpha=0.5)\n",
        "plt.show()\n",
        "\n",
        "# # Confusion Matrix Visualization\n",
        "# conf_matrix = confusion_matrix(y_test, y_pred)\n",
        "# plt.figure(figsize=(8, 6))\n",
        "# sns.heatmap(conf_matrix, annot=True, fmt=\"d\", cmap=\"Blues\", cbar=False)\n",
        "# plt.title(\"Confusion Matrix\", fontsize=14)\n",
        "# plt.xlabel(\"Predicted Label\", fontsize=12)\n",
        "# plt.ylabel(\"True Label\", fontsize=12)\n",
        "# plt.show()\n",
        "\n",
        "# # ROC Curve\n",
        "# y_pred_prob = model.predict(X_test_lstm).ravel()\n",
        "# fpr, tpr, _ = roc_curve(y_test, y_pred_prob)\n",
        "# roc_auc = auc(fpr, tpr)\n",
        "# plt.figure(figsize=(8, 6))\n",
        "# plt.plot(fpr, tpr, label=f'AUC = {roc_auc:.2f}', color='darkorange', linewidth=2)\n",
        "# plt.plot([0, 1], [0, 1], linestyle='--', color='gray')\n",
        "# plt.title('Receiver Operating Characteristic (ROC) Curve', fontsize=14)\n",
        "# plt.xlabel('False Positive Rate', fontsize=12)\n",
        "# plt.ylabel('True Positive Rate', fontsize=12)\n",
        "# plt.legend(loc='lower right')\n",
        "# plt.grid(True, linestyle='--', alpha=0.5)\n",
        "# plt.show()\n"
      ],
      "metadata": {
        "colab": {
          "base_uri": "https://localhost:8080/",
          "height": 1000
        },
        "id": "Z26jAi2fkx1h",
        "outputId": "6d642390-93fd-415f-f9e1-2693488b8b10"
      },
      "execution_count": null,
      "outputs": [
        {
          "output_type": "stream",
          "name": "stdout",
          "text": [
            "\u001b[1m3642/3642\u001b[0m \u001b[32m━━━━━━━━━━━━━━━━━━━━\u001b[0m\u001b[37m\u001b[0m \u001b[1m9s\u001b[0m 3ms/step\n",
            "CNN Model Accuracy: 98.78%\n",
            "              precision    recall  f1-score       support\n",
            "0              0.982620  0.987696  0.985151   47625.00000\n",
            "1              0.991463  0.987922  0.989690   68888.00000\n",
            "accuracy       0.987830  0.987830  0.987830       0.98783\n",
            "macro avg      0.987041  0.987809  0.987420  116513.00000\n",
            "weighted avg   0.987848  0.987830  0.987834  116513.00000\n"
          ]
        },
        {
          "output_type": "display_data",
          "data": {
            "text/plain": [
              "<Figure size 640x480 with 1 Axes>"
            ],
            "image/png": "[encoded data removed]"
          },
          "metadata": {}
        },
        {
          "output_type": "display_data",
          "data": {
            "text/plain": [
              "<Figure size 1000x600 with 1 Axes>"
            ],
            "image/png": "[encoded data removed]"
          },
          "metadata": {}
        }
      ]
    },
    {
      "cell_type": "code",
      "source": [
        "!pip install keras-tuner --upgrade"
      ],
      "metadata": {
        "colab": {
          "base_uri": "https://localhost:8080/"
        },
        "id": "suYIY67n-ndR",
        "outputId": "32f01153-35ba-4a32-c8e2-d537b078194f"
      },
      "execution_count": null,
      "outputs": [
        {
          "output_type": "stream",
          "name": "stdout",
          "text": [
            "Collecting keras-tuner\n",
            "  Downloading keras_tuner-1.4.7-py3-none-any.whl.metadata (5.4 kB)\n",
            "Requirement already satisfied: keras in /usr/local/lib/python3.11/dist-packages (from keras-tuner) (3.8.0)\n",
            "Requirement already satisfied: packaging in /usr/local/lib/python3.11/dist-packages (from keras-tuner) (24.2)\n",
            "Requirement already satisfied: requests in /usr/local/lib/python3.11/dist-packages (from keras-tuner) (2.32.3)\n",
            "Collecting kt-legacy (from keras-tuner)\n",
            "  Downloading kt_legacy-1.0.5-py3-none-any.whl.metadata (221 bytes)\n",
            "Requirement already satisfied: absl-py in /usr/local/lib/python3.11/dist-packages (from keras->keras-tuner) (1.4.0)\n",
            "Requirement already satisfied: numpy in /usr/local/lib/python3.11/dist-packages (from keras->keras-tuner) (2.0.2)\n",
            "Requirement already satisfied: rich in /usr/local/lib/python3.11/dist-packages (from keras->keras-tuner) (13.9.4)\n",
            "Requirement already satisfied: namex in /usr/local/lib/python3.11/dist-packages (from keras->keras-tuner) (0.0.9)\n",
            "Requirement already satisfied: h5py in /usr/local/lib/python3.11/dist-packages (from keras->keras-tuner) (3.13.0)\n",
            "Requirement already satisfied: optree in /usr/local/lib/python3.11/dist-packages (from keras->keras-tuner) (0.15.0)\n",
            "Requirement already satisfied: ml-dtypes in /usr/local/lib/python3.11/dist-packages (from keras->keras-tuner) (0.4.1)\n",
            "Requirement already satisfied: charset-normalizer<4,>=2 in /usr/local/lib/python3.11/dist-packages (from requests->keras-tuner) (3.4.1)\n",
            "Requirement already satisfied: idna<4,>=2.5 in /usr/local/lib/python3.11/dist-packages (from requests->keras-tuner) (3.10)\n",
            "Requirement already satisfied: urllib3<3,>=1.21.1 in /usr/local/lib/python3.11/dist-packages (from requests->keras-tuner) (2.4.0)\n",
            "Requirement already satisfied: certifi>=2017.4.17 in /usr/local/lib/python3.11/dist-packages (from requests->keras-tuner) (2025.1.31)\n",
            "Requirement already satisfied: typing-extensions>=4.5.0 in /usr/local/lib/python3.11/dist-packages (from optree->keras->keras-tuner) (4.13.2)\n",
            "Requirement already satisfied: markdown-it-py>=2.2.0 in /usr/local/lib/python3.11/dist-packages (from rich->keras->keras-tuner) (3.0.0)\n",
            "Requirement already satisfied: pygments<3.0.0,>=2.13.0 in /usr/local/lib/python3.11/dist-packages (from rich->keras->keras-tuner) (2.19.1)\n",
            "Requirement already satisfied: mdurl~=0.1 in /usr/local/lib/python3.11/dist-packages (from markdown-it-py>=2.2.0->rich->keras->keras-tuner) (0.1.2)\n",
            "Downloading keras_tuner-1.4.7-py3-none-any.whl (129 kB)\n",
            "\u001b[2K   \u001b[90m━━━━━━━━━━━━━━━━━━━━━━━━━━━━━━━━━━━━━━━━\u001b[0m \u001b[32m129.1/129.1 kB\u001b[0m \u001b[31m2.3 MB/s\u001b[0m eta \u001b[36m0:00:00\u001b[0m\n",
            "\u001b[?25hDownloading kt_legacy-1.0.5-py3-none-any.whl (9.6 kB)\n",
            "Installing collected packages: kt-legacy, keras-tuner\n",
            "Successfully installed keras-tuner-1.4.7 kt-legacy-1.0.5\n"
          ]
        }
      ]
    },
    {
      "cell_type": "markdown",
      "source": [
        "HYBRID MODEL"
      ],
      "metadata": {
        "id": "R_0TatPHzoFg"
      }
    },
    {
      "cell_type": "code",
      "source": [
        "import pandas as pd\n",
        "import numpy as np\n",
        "from sklearn.model_selection import train_test_split\n",
        "from sklearn.preprocessing import StandardScaler\n",
        "from keras.models import load_model\n",
        "\n",
        "# Load datasets\n",
        "ddos_path = '/content/drive/MyDrive/dataset/cicddos2019_dataset.csv'\n",
        "bitcoin_path = '/content/drive/MyDrive/dataset/bitcoin.csv'\n",
        "\n",
        "ddos_data = pd.read_csv(ddos_path)\n",
        "bitcoin_data = pd.read_csv(bitcoin_path)\n",
        "\n",
        "# Preprocess DDoS dataset\n",
        "ddos_data = ddos_data.dropna()\n",
        "ddos_data['DDoS_binary'] = (ddos_data['Class'] == 'Attack').astype(int)\n",
        "ddos_features = ddos_data[[\n",
        "    'Flow Duration', 'Total Fwd Packets', 'Total Backward Packets',\n",
        "    'Fwd Packets Length Total', 'Bwd Packets Length Total',\n",
        "    'Flow Bytes/s', 'Flow Packets/s'\n",
        "]].copy()\n",
        "ddos_features['Label'] = ddos_data['DDoS_binary']\n",
        "\n",
        "# Preprocess Bitcoin dataset\n",
        "bitcoin_data = bitcoin_data.drop(columns=['tx_hash'], errors='ignore')\n",
        "bitcoin_data = bitcoin_data.apply(pd.to_numeric, errors='coerce')\n",
        "bitcoin_data = bitcoin_data.dropna()\n",
        "bitcoin_threshold = bitcoin_data['indegree'].median()\n",
        "bitcoin_data['Bitcoin_binary'] = (bitcoin_data['indegree'] > bitcoin_threshold).astype(int)\n",
        "bitcoin_features = bitcoin_data[[\n",
        "    'indegree', 'outdegree', 'in_btc', 'out_btc',\n",
        "    'total_btc', 'mean_in_btc', 'mean_out_btc'\n",
        "]].copy()\n",
        "bitcoin_features.rename(columns={\n",
        "    'indegree': 'Total Fwd Packets',\n",
        "    'outdegree': 'Total Backward Packets',\n",
        "    'in_btc': 'Fwd Packets Length Total',\n",
        "    'out_btc': 'Bwd Packets Length Total',\n",
        "    'total_btc': 'Flow Duration',\n",
        "    'mean_in_btc': 'Flow Bytes/s',\n",
        "    'mean_out_btc': 'Flow Packets/s'\n",
        "}, inplace=True)\n",
        "bitcoin_features['Label'] = bitcoin_data['Bitcoin_binary']\n",
        "\n",
        "# Combine datasets\n",
        "combined_features = pd.concat([ddos_features, bitcoin_features], ignore_index=True)\n",
        "\n",
        "# Feature scaling\n",
        "scaler = StandardScaler()\n",
        "X = combined_features.drop(columns=['Label'])\n",
        "X_scaled = scaler.fit_transform(X)\n",
        "y = combined_features['Label']\n",
        "\n",
        "# Train-test split\n",
        "X_train, X_test, y_train, y_test = train_test_split(X_scaled, y, test_size=0.2, random_state=42)\n",
        "\n",
        "# Reshape for LSTM\n",
        "n_features = X_train.shape[1]\n",
        "X_train_lstm = np.reshape(X_train, (X_train.shape[0], 1, n_features))\n",
        "X_test_lstm = np.reshape(X_test, (X_test.shape[0], 1, n_features))"
      ],
      "metadata": {
        "id": "KuDRMQnT-5qn"
      },
      "execution_count": null,
      "outputs": []
    },
    {
      "cell_type": "markdown",
      "source": [
        "TRAINING"
      ],
      "metadata": {
        "id": "tH2qPbvJzq1N"
      }
    },
    {
      "cell_type": "code",
      "source": [
        "!pip install keras-tuner --upgrade\n",
        "import tensorflow as tf\n",
        "import keras_tuner as kt\n",
        "from keras_tuner import HyperParameters\n",
        "from tensorflow.keras.models import Model\n",
        "from tensorflow.keras.layers import Input, LSTM, Dense, Conv1D, MaxPooling1D, Flatten, Dropout, concatenate, BatchNormalization\n",
        "from tensorflow.keras.optimizers import Adam\n",
        "\n",
        "# Hyperparameter tuning function\n",
        "def build_hybrid_model(hp):\n",
        "    input_layer = Input(shape=(1, n_features))\n",
        "\n",
        "    # CNN branch\n",
        "    cnn_layer = Conv1D(filters=hp.Int('filters', 32, 128, step=32), kernel_size=3, activation='relu', padding='same')(input_layer)\n",
        "    cnn_layer = MaxPooling1D(pool_size=1)(cnn_layer)\n",
        "    cnn_layer = BatchNormalization()(cnn_layer)\n",
        "    cnn_layer = Dropout(hp.Float('cnn_dropout', 0.2, 0.5, step=0.1))(cnn_layer)\n",
        "    cnn_layer = Conv1D(filters=hp.Int('filters_2', 32, 128, step=32), kernel_size=3, activation='relu', padding='same')(cnn_layer)\n",
        "    cnn_layer = Flatten()(cnn_layer)\n",
        "    cnn_layer = Dropout(hp.Float('cnn_dropout_2', 0.2, 0.5, step=0.1))(cnn_layer)\n",
        "\n",
        "    # LSTM branch\n",
        "    lstm_layer = LSTM(units=hp.Int('lstm_units', 50, 150, step=50), return_sequences=False,\n",
        "                      dropout=hp.Float('lstm_dropout', 0.2, 0.5, step=0.1), recurrent_dropout=0.2)(input_layer)\n",
        "\n",
        "    # Combine CNN and LSTM branches\n",
        "    combined = concatenate([cnn_layer, lstm_layer])\n",
        "    dense_layer = Dense(units=hp.Int('dense_units', 64, 256, step=64), activation='relu')(combined)\n",
        "    dense_layer = BatchNormalization()(dense_layer)\n",
        "    dense_layer = Dropout(hp.Float('dense_dropout', 0.3, 0.6, step=0.1))(dense_layer)\n",
        "    output_layer = Dense(units=1, activation='sigmoid')(dense_layer)\n",
        "\n",
        "    model = Model(inputs=input_layer, outputs=output_layer)\n",
        "    model.compile(optimizer=Adam(learning_rate=hp.Choice('learning_rate', [0.0001, 0.0005, 0.001])),\n",
        "                  loss='binary_crossentropy', metrics=['accuracy', 'AUC'])\n",
        "    return model\n",
        "\n",
        "# # Initialize HyperParameters\n",
        "hp = HyperParameters()\n",
        "\n",
        "# # Random Search\n",
        "tuner = kt.RandomSearch(\n",
        "    build_hybrid_model,\n",
        "    objective='val_accuracy',\n",
        "    max_trials=1,\n",
        "    executions_per_trial=1,\n",
        "    directory='hybrid_tuning',\n",
        "    project_name='ddos_bitcoin_detection'\n",
        ")\n",
        "# Fit the tuner\n",
        "tuner.search(\n",
        "    X_train_lstm, y_train,\n",
        "    epochs=15,\n",
        "    batch_size=hp.Choice('batch_size', [256]),\n",
        "    validation_data=(X_test_lstm, y_test)\n",
        ")\n",
        "\n",
        "# Get the best model and hyperparameters\n",
        "best_hybrid_model = tuner.get_best_models(num_models=1)[0]\n",
        "\n",
        "# Train the best model (no early stopping)\n",
        "training_history = best_hybrid_model.fit(\n",
        "    X_train_lstm, y_train,\n",
        "    epochs=10,\n",
        "    batch_size=256,\n",
        "    validation_data=(X_test_lstm, y_test)\n",
        ")\n",
        "\n",
        "# Display best hyperparameters\n",
        "print(f\"Best hyperparameters: {tuner.get_best_hyperparameters(num_trials=1)[0].values}\")\n",
        "# Save the trained best hybrid model\n",
        "best_hybrid_model.save('hybrid_model.h5', save_format='h5', include_optimizer=False)\n",
        "print(\"Hybrid model saved as 'hybrid_model.h5'\")\n",
        "import joblib\n",
        "\n",
        "# Save scaler object\n",
        "joblib.dump(scaler, 'scaler.save')\n",
        "\n",
        "# Also print mean and scale for manual use\n",
        "print(\"Mean:\", scaler.mean_)\n",
        "print(\"Scale:\", scaler.scale_)"
      ],
      "metadata": {
        "colab": {
          "base_uri": "https://localhost:8080/"
        },
        "id": "93A47XIYMW9f",
        "outputId": "6b7031b0-377b-4528-d58d-c57b0b93c559"
      },
      "execution_count": null,
      "outputs": [
        {
          "output_type": "stream",
          "name": "stdout",
          "text": [
            "Trial 1 Complete [00h 09m 51s]\n",
            "val_accuracy: 0.9863792061805725\n",
            "\n",
            "Best val_accuracy So Far: 0.9863792061805725\n",
            "Total elapsed time: 00h 09m 51s\n",
            "Epoch 1/10\n"
          ]
        },
        {
          "output_type": "stream",
          "name": "stderr",
          "text": [
            "/usr/local/lib/python3.11/dist-packages/keras/src/saving/saving_lib.py:757: UserWarning: Skipping variable loading for optimizer 'adam', because it has 2 variables whereas the saved optimizer has 32 variables. \n",
            "  saveable.load_own_variables(weights_store.get(inner_path))\n"
          ]
        },
        {
          "output_type": "stream",
          "name": "stdout",
          "text": [
            "\u001b[1m1821/1821\u001b[0m \u001b[32m━━━━━━━━━━━━━━━━━━━━\u001b[0m\u001b[37m\u001b[0m \u001b[1m42s\u001b[0m 20ms/step - AUC: 0.9965 - accuracy: 0.9831 - loss: 0.0581 - val_AUC: 0.9978 - val_accuracy: 0.9857 - val_loss: 0.0469\n",
            "Epoch 2/10\n",
            "\u001b[1m1821/1821\u001b[0m \u001b[32m━━━━━━━━━━━━━━━━━━━━\u001b[0m\u001b[37m\u001b[0m \u001b[1m33s\u001b[0m 18ms/step - AUC: 0.9967 - accuracy: 0.9830 - loss: 0.0572 - val_AUC: 0.9972 - val_accuracy: 0.9834 - val_loss: 0.0585\n",
            "Epoch 3/10\n",
            "\u001b[1m1821/1821\u001b[0m \u001b[32m━━━━━━━━━━━━━━━━━━━━\u001b[0m\u001b[37m\u001b[0m \u001b[1m44s\u001b[0m 20ms/step - AUC: 0.9968 - accuracy: 0.9839 - loss: 0.0555 - val_AUC: 0.9978 - val_accuracy: 0.9860 - val_loss: 0.0482\n",
            "Epoch 4/10\n",
            "\u001b[1m1821/1821\u001b[0m \u001b[32m━━━━━━━━━━━━━━━━━━━━\u001b[0m\u001b[37m\u001b[0m \u001b[1m36s\u001b[0m 20ms/step - AUC: 0.9968 - accuracy: 0.9836 - loss: 0.0558 - val_AUC: 0.9979 - val_accuracy: 0.9865 - val_loss: 0.0460\n",
            "Epoch 5/10\n",
            "\u001b[1m1821/1821\u001b[0m \u001b[32m━━━━━━━━━━━━━━━━━━━━\u001b[0m\u001b[37m\u001b[0m \u001b[1m34s\u001b[0m 19ms/step - AUC: 0.9970 - accuracy: 0.9843 - loss: 0.0534 - val_AUC: 0.9981 - val_accuracy: 0.9849 - val_loss: 0.0462\n",
            "Epoch 6/10\n",
            "\u001b[1m1821/1821\u001b[0m \u001b[32m━━━━━━━━━━━━━━━━━━━━\u001b[0m\u001b[37m\u001b[0m \u001b[1m41s\u001b[0m 18ms/step - AUC: 0.9970 - accuracy: 0.9844 - loss: 0.0535 - val_AUC: 0.9980 - val_accuracy: 0.9851 - val_loss: 0.0469\n",
            "Epoch 7/10\n",
            "\u001b[1m1821/1821\u001b[0m \u001b[32m━━━━━━━━━━━━━━━━━━━━\u001b[0m\u001b[37m\u001b[0m \u001b[1m40s\u001b[0m 18ms/step - AUC: 0.9971 - accuracy: 0.9843 - loss: 0.0532 - val_AUC: 0.9983 - val_accuracy: 0.9882 - val_loss: 0.0424\n",
            "Epoch 8/10\n",
            "\u001b[1m1821/1821\u001b[0m \u001b[32m━━━━━━━━━━━━━━━━━━━━\u001b[0m\u001b[37m\u001b[0m \u001b[1m33s\u001b[0m 18ms/step - AUC: 0.9972 - accuracy: 0.9849 - loss: 0.0518 - val_AUC: 0.9979 - val_accuracy: 0.9875 - val_loss: 0.0448\n",
            "Epoch 9/10\n",
            "\u001b[1m1821/1821\u001b[0m \u001b[32m━━━━━━━━━━━━━━━━━━━━\u001b[0m\u001b[37m\u001b[0m \u001b[1m37s\u001b[0m 20ms/step - AUC: 0.9971 - accuracy: 0.9849 - loss: 0.0518 - val_AUC: 0.9980 - val_accuracy: 0.9849 - val_loss: 0.0485\n",
            "Epoch 10/10\n",
            "\u001b[1m1821/1821\u001b[0m \u001b[32m━━━━━━━━━━━━━━━━━━━━\u001b[0m\u001b[37m\u001b[0m \u001b[1m36s\u001b[0m 18ms/step - AUC: 0.9971 - accuracy: 0.9849 - loss: 0.0516 - val_AUC: 0.9984 - val_accuracy: 0.9890 - val_loss: 0.0397\n"
          ]
        },
        {
          "output_type": "stream",
          "name": "stderr",
          "text": [
            "WARNING:absl:The `save_format` argument is deprecated in Keras 3. We recommend removing this argument as it can be inferred from the file path. Received: save_format=h5\n",
            "WARNING:absl:You are saving your model as an HDF5 file via `model.save()` or `keras.saving.save_model(model)`. This file format is considered legacy. We recommend using instead the native Keras format, e.g. `model.save('my_model.keras')` or `keras.saving.save_model(model, 'my_model.keras')`. \n"
          ]
        },
        {
          "output_type": "stream",
          "name": "stdout",
          "text": [
            "Best hyperparameters: {'filters': 32, 'cnn_dropout': 0.2, 'filters_2': 64, 'cnn_dropout_2': 0.4, 'lstm_units': 100, 'lstm_dropout': 0.2, 'dense_units': 192, 'dense_dropout': 0.3, 'learning_rate': 0.0001}\n",
            "Hybrid model saved as 'hybrid_model.h5'\n",
            "Mean: [6.22364171e+06 1.81834005e+01 2.14580104e+00 7.00549639e+03\n",
            " 1.24501256e+03 5.46007701e+07 9.38371584e+04]\n",
            "Scale: [1.86667158e+07 1.68916968e+02 4.85105743e+01 2.99348222e+04\n",
            " 9.15681868e+04 2.87808999e+08 3.60788534e+05]\n"
          ]
        }
      ]
    },
    {
      "cell_type": "markdown",
      "source": [
        "TESTING"
      ],
      "metadata": {
        "id": "JthbOGNnzsd_"
      }
    },
    {
      "cell_type": "code",
      "source": [
        "from sklearn.metrics import accuracy_score, classification_report\n",
        "\n",
        "# Predict and evaluate\n",
        "y_pred = (best_hybrid_model.predict(X_test_lstm) > 0.5).astype(\"int32\")\n",
        "accuracy = accuracy_score(y_test, y_pred)\n",
        "print(f'Accuracy: {accuracy * 100:.2f}%')\n",
        "\n",
        "# Classification report\n",
        "report = classification_report(y_test, y_pred, output_dict=True)\n",
        "report_df = pd.DataFrame(report).transpose()\n",
        "print(report_df)"
      ],
      "metadata": {
        "colab": {
          "base_uri": "https://localhost:8080/"
        },
        "id": "NdssmmPEMaqw",
        "outputId": "c95d70ab-a6c1-40c7-c6e2-fbe4789e775b"
      },
      "execution_count": null,
      "outputs": [
        {
          "output_type": "stream",
          "name": "stdout",
          "text": [
            "\u001b[1m3642/3642\u001b[0m \u001b[32m━━━━━━━━━━━━━━━━━━━━\u001b[0m\u001b[37m\u001b[0m \u001b[1m8s\u001b[0m 2ms/step\n",
            "Accuracy: 98.99%\n",
            "              precision    recall  f1-score        support\n",
            "0              0.987347  0.987969  0.987657   47625.000000\n",
            "1              0.991679  0.991247  0.991463   68888.000000\n",
            "accuracy       0.989907  0.989907  0.989907       0.989907\n",
            "macro avg      0.989513  0.989608  0.989560  116513.000000\n",
            "weighted avg   0.989908  0.989907  0.989907  116513.000000\n"
          ]
        }
      ]
    },
    {
      "cell_type": "code",
      "source": [
        "import matplotlib.pyplot as plt\n",
        "\n",
        "# plt.figure(figsize=(10, 6))\n",
        "plt.plot(training_history.history['loss'], label='Training Loss', linestyle='-', marker='o', color='blue', alpha=0.7)\n",
        "plt.plot(training_history.history['val_loss'], label='Validation Loss', linestyle='--', marker='s', color='red', alpha=0.7)\n",
        "plt.title('Hybrid LSTM+CNN Model Loss', fontsize=14)\n",
        "plt.xlabel('Epochs', fontsize=12)\n",
        "plt.ylabel('Loss', fontsize=12)\n",
        "plt.legend()\n",
        "plt.grid(True, linestyle='--', alpha=0.5)\n",
        "plt.show()\n",
        "\n",
        "# Plot Training and Validation Accuracy\n",
        "plt.figure(figsize=(10, 6))\n",
        "plt.plot(training_history.history['accuracy'], label='Training Accuracy', linestyle='-', marker='o', color='green', alpha=0.7)\n",
        "plt.plot(training_history.history['val_accuracy'], label='Validation Accuracy', linestyle='--', marker='s', color='orange', alpha=0.7)\n",
        "plt.title('Hybrid LSTM+CNN Model Accuracy', fontsize=14)\n",
        "plt.xlabel('Epochs', fontsize=12)\n",
        "plt.ylabel('Accuracy', fontsize=12)\n",
        "plt.legend()\n",
        "plt.grid(True, linestyle='--', alpha=0.5)\n",
        "plt.show()\n"
      ],
      "metadata": {
        "colab": {
          "base_uri": "https://localhost:8080/",
          "height": 1000
        },
        "id": "YYCgsSJ6MpJr",
        "outputId": "ec4c25f2-1b21-485a-ea01-c83fbcf447bb"
      },
      "execution_count": null,
      "outputs": [
        {
          "output_type": "display_data",
          "data": {
            "text/plain": [
              "<Figure size 640x480 with 1 Axes>"
            ],
            "image/png": "[encoded data removed]"
          },
          "metadata": {}
        },
        {
          "output_type": "display_data",
          "data": {
            "text/plain": [
              "<Figure size 1000x600 with 1 Axes>"
            ],
            "image/png": "[encoded data removed]"
          },
          "metadata": {}
        }
      ]
    },
    {
      "cell_type": "code",
      "source": [
        "from google.colab import files\n",
        "files.download('cnn_model.h5')\n",
        "files.download('hybrid_model.h5')\n",
        "files.download('scaler.save')  # optional"
      ],
      "metadata": {
        "colab": {
          "base_uri": "https://localhost:8080/",
          "height": 17
        },
        "id": "31hwNft2P3Lf",
        "outputId": "ff7c512a-1be3-4b17-afab-761ef35a2322"
      },
      "execution_count": null,
      "outputs": [
        {
          "output_type": "display_data",
          "data": {
            "text/plain": [
              "<IPython.core.display.Javascript object>"
            ],
            "application/javascript": [
              "\n",
              "    async function download(id, filename, size) {\n",
              "      if (!google.colab.kernel.accessAllowed) {\n",
              "        return;\n",
              "      }\n",
              "      const div = document.createElement('div');\n",
              "      const label = document.createElement('label');\n",
              "      label.textContent = `Downloading \"${filename}\": `;\n",
              "      div.appendChild(label);\n",
              "      const progress = document.createElement('progress');\n",
              "      progress.max = size;\n",
              "      div.appendChild(progress);\n",
              "      document.body.appendChild(div);\n",
              "\n",
              "      const buffers = [];\n",
              "      let downloaded = 0;\n",
              "\n",
              "      const channel = await google.colab.kernel.comms.open(id);\n",
              "      // Send a message to notify the kernel that we're ready.\n",
              "      channel.send({})\n",
              "\n",
              "      for await (const message of channel.messages) {\n",
              "        // Send a message to notify the kernel that we're ready.\n",
              "        channel.send({})\n",
              "        if (message.buffers) {\n",
              "          for (const buffer of message.buffers) {\n",
              "            buffers.push(buffer);\n",
              "            downloaded += buffer.byteLength;\n",
              "            progress.value = downloaded;\n",
              "          }\n",
              "        }\n",
              "      }\n",
              "      const blob = new Blob(buffers, {type: 'application/binary'});\n",
              "      const a = document.createElement('a');\n",
              "      a.href = window.URL.createObjectURL(blob);\n",
              "      a.download = filename;\n",
              "      div.appendChild(a);\n",
              "      a.click();\n",
              "      div.remove();\n",
              "    }\n",
              "  "
            ]
          },
          "metadata": {}
        },
        {
          "output_type": "display_data",
          "data": {
            "text/plain": [
              "<IPython.core.display.Javascript object>"
            ],
            "application/javascript": [
              "download(\"download_84a4cbbe-db4e-4cba-9338-85f87f04d42b\", \"cnn_model.h5\", 76464)"
            ]
          },
          "metadata": {}
        },
        {
          "output_type": "display_data",
          "data": {
            "text/plain": [
              "<IPython.core.display.Javascript object>"
            ],
            "application/javascript": [
              "\n",
              "    async function download(id, filename, size) {\n",
              "      if (!google.colab.kernel.accessAllowed) {\n",
              "        return;\n",
              "      }\n",
              "      const div = document.createElement('div');\n",
              "      const label = document.createElement('label');\n",
              "      label.textContent = `Downloading \"${filename}\": `;\n",
              "      div.appendChild(label);\n",
              "      const progress = document.createElement('progress');\n",
              "      progress.max = size;\n",
              "      div.appendChild(progress);\n",
              "      document.body.appendChild(div);\n",
              "\n",
              "      const buffers = [];\n",
              "      let downloaded = 0;\n",
              "\n",
              "      const channel = await google.colab.kernel.comms.open(id);\n",
              "      // Send a message to notify the kernel that we're ready.\n",
              "      channel.send({})\n",
              "\n",
              "      for await (const message of channel.messages) {\n",
              "        // Send a message to notify the kernel that we're ready.\n",
              "        channel.send({})\n",
              "        if (message.buffers) {\n",
              "          for (const buffer of message.buffers) {\n",
              "            buffers.push(buffer);\n",
              "            downloaded += buffer.byteLength;\n",
              "            progress.value = downloaded;\n",
              "          }\n",
              "        }\n",
              "      }\n",
              "      const blob = new Blob(buffers, {type: 'application/binary'});\n",
              "      const a = document.createElement('a');\n",
              "      a.href = window.URL.createObjectURL(blob);\n",
              "      a.download = filename;\n",
              "      div.appendChild(a);\n",
              "      a.click();\n",
              "      div.remove();\n",
              "    }\n",
              "  "
            ]
          },
          "metadata": {}
        },
        {
          "output_type": "display_data",
          "data": {
            "text/plain": [
              "<IPython.core.display.Javascript object>"
            ],
            "application/javascript": [
              "download(\"download_b92b2ed9-865c-40a5-8109-ffb1e2145d68\", \"hybrid_model.h5\", 379080)"
            ]
          },
          "metadata": {}
        },
        {
          "output_type": "display_data",
          "data": {
            "text/plain": [
              "<IPython.core.display.Javascript object>"
            ],
            "application/javascript": [
              "\n",
              "    async function download(id, filename, size) {\n",
              "      if (!google.colab.kernel.accessAllowed) {\n",
              "        return;\n",
              "      }\n",
              "      const div = document.createElement('div');\n",
              "      const label = document.createElement('label');\n",
              "      label.textContent = `Downloading \"${filename}\": `;\n",
              "      div.appendChild(label);\n",
              "      const progress = document.createElement('progress');\n",
              "      progress.max = size;\n",
              "      div.appendChild(progress);\n",
              "      document.body.appendChild(div);\n",
              "\n",
              "      const buffers = [];\n",
              "      let downloaded = 0;\n",
              "\n",
              "      const channel = await google.colab.kernel.comms.open(id);\n",
              "      // Send a message to notify the kernel that we're ready.\n",
              "      channel.send({})\n",
              "\n",
              "      for await (const message of channel.messages) {\n",
              "        // Send a message to notify the kernel that we're ready.\n",
              "        channel.send({})\n",
              "        if (message.buffers) {\n",
              "          for (const buffer of message.buffers) {\n",
              "            buffers.push(buffer);\n",
              "            downloaded += buffer.byteLength;\n",
              "            progress.value = downloaded;\n",
              "          }\n",
              "        }\n",
              "      }\n",
              "      const blob = new Blob(buffers, {type: 'application/binary'});\n",
              "      const a = document.createElement('a');\n",
              "      a.href = window.URL.createObjectURL(blob);\n",
              "      a.download = filename;\n",
              "      div.appendChild(a);\n",
              "      a.click();\n",
              "      div.remove();\n",
              "    }\n",
              "  "
            ]
          },
          "metadata": {}
        },
        {
          "output_type": "display_data",
          "data": {
            "text/plain": [
              "<IPython.core.display.Javascript object>"
            ],
            "application/javascript": [
              "download(\"download_69de1a0a-643d-4734-86d1-0726b91b58c5\", \"scaler.save\", 1231)"
            ]
          },
          "metadata": {}
        }
      ]
    },
    {
      "cell_type": "code",
      "source": [
        "from google.colab import files\n",
        "uploaded = files.upload()\n"
      ],
      "metadata": {
        "colab": {
          "base_uri": "https://localhost:8080/",
          "height": 73
        },
        "id": "zp04MLaFvob0",
        "outputId": "7fe26d32-b4dd-40a5-f07a-00f3e52be5f4"
      },
      "execution_count": null,
      "outputs": [
        {
          "output_type": "display_data",
          "data": {
            "text/plain": [
              "<IPython.core.display.HTML object>"
            ],
            "text/html": [
              "\n",
              "     <input type=\"file\" id=\"files-7c08bac9-7c8e-4886-8ba2-b08089d43aa8\" name=\"files[]\" multiple disabled\n",
              "        style=\"border:none\" />\n",
              "     <output id=\"result-7c08bac9-7c8e-4886-8ba2-b08089d43aa8\">\n",
              "      Upload widget is only available when the cell has been executed in the\n",
              "      current browser session. Please rerun this cell to enable.\n",
              "      </output>\n",
              "      <script>// Copyright 2017 Google LLC\n",
              "//\n",
              "// Licensed under the Apache License, Version 2.0 (the \"License\");\n",
              "// you may not use this file except in compliance with the License.\n",
              "// You may obtain a copy of the License at\n",
              "//\n",
              "//      http://www.apache.org/licenses/LICENSE-2.0\n",
              "//\n",
              "// Unless required by applicable law or agreed to in writing, software\n",
              "// distributed under the License is distributed on an \"AS IS\" BASIS,\n",
              "// WITHOUT WARRANTIES OR CONDITIONS OF ANY KIND, either express or implied.\n",
              "// See the License for the specific language governing permissions and\n",
              "// limitations under the License.\n",
              "\n",
              "/**\n",
              " * @fileoverview Helpers for google.colab Python module.\n",
              " */\n",
              "(function(scope) {\n",
              "function span(text, styleAttributes = {}) {\n",
              "  const element = document.createElement('span');\n",
              "  element.textContent = text;\n",
              "  for (const key of Object.keys(styleAttributes)) {\n",
              "    element.style[key] = styleAttributes[key];\n",
              "  }\n",
              "  return element;\n",
              "}\n",
              "\n",
              "// Max number of bytes which will be uploaded at a time.\n",
              "const MAX_PAYLOAD_SIZE = 100 * 1024;\n",
              "\n",
              "function _uploadFiles(inputId, outputId) {\n",
              "  const steps = uploadFilesStep(inputId, outputId);\n",
              "  const outputElement = document.getElementById(outputId);\n",
              "  // Cache steps on the outputElement to make it available for the next call\n",
              "  // to uploadFilesContinue from Python.\n",
              "  outputElement.steps = steps;\n",
              "\n",
              "  return _uploadFilesContinue(outputId);\n",
              "}\n",
              "\n",
              "// This is roughly an async generator (not supported in the browser yet),\n",
              "// where there are multiple asynchronous steps and the Python side is going\n",
              "// to poll for completion of each step.\n",
              "// This uses a Promise to block the python side on completion of each step,\n",
              "// then passes the result of the previous step as the input to the next step.\n",
              "function _uploadFilesContinue(outputId) {\n",
              "  const outputElement = document.getElementById(outputId);\n",
              "  const steps = outputElement.steps;\n",
              "\n",
              "  const next = steps.next(outputElement.lastPromiseValue);\n",
              "  return Promise.resolve(next.value.promise).then((value) => {\n",
              "    // Cache the last promise value to make it available to the next\n",
              "    // step of the generator.\n",
              "    outputElement.lastPromiseValue = value;\n",
              "    return next.value.response;\n",
              "  });\n",
              "}\n",
              "\n",
              "/**\n",
              " * Generator function which is called between each async step of the upload\n",
              " * process.\n",
              " * @param {string} inputId Element ID of the input file picker element.\n",
              " * @param {string} outputId Element ID of the output display.\n",
              " * @return {!Iterable<!Object>} Iterable of next steps.\n",
              " */\n",
              "function* uploadFilesStep(inputId, outputId) {\n",
              "  const inputElement = document.getElementById(inputId);\n",
              "  inputElement.disabled = false;\n",
              "\n",
              "  const outputElement = document.getElementById(outputId);\n",
              "  outputElement.innerHTML = '';\n",
              "\n",
              "  const pickedPromise = new Promise((resolve) => {\n",
              "    inputElement.addEventListener('change', (e) => {\n",
              "      resolve(e.target.files);\n",
              "    });\n",
              "  });\n",
              "\n",
              "  const cancel = document.createElement('button');\n",
              "  inputElement.parentElement.appendChild(cancel);\n",
              "  cancel.textContent = 'Cancel upload';\n",
              "  const cancelPromise = new Promise((resolve) => {\n",
              "    cancel.onclick = () => {\n",
              "      resolve(null);\n",
              "    };\n",
              "  });\n",
              "\n",
              "  // Wait for the user to pick the files.\n",
              "  const files = yield {\n",
              "    promise: Promise.race([pickedPromise, cancelPromise]),\n",
              "    response: {\n",
              "      action: 'starting',\n",
              "    }\n",
              "  };\n",
              "\n",
              "  cancel.remove();\n",
              "\n",
              "  // Disable the input element since further picks are not allowed.\n",
              "  inputElement.disabled = true;\n",
              "\n",
              "  if (!files) {\n",
              "    return {\n",
              "      response: {\n",
              "        action: 'complete',\n",
              "      }\n",
              "    };\n",
              "  }\n",
              "\n",
              "  for (const file of files) {\n",
              "    const li = document.createElement('li');\n",
              "    li.append(span(file.name, {fontWeight: 'bold'}));\n",
              "    li.append(span(\n",
              "        `(${file.type || 'n/a'}) - ${file.size} bytes, ` +\n",
              "        `last modified: ${\n",
              "            file.lastModifiedDate ? file.lastModifiedDate.toLocaleDateString() :\n",
              "                                    'n/a'} - `));\n",
              "    const percent = span('0% done');\n",
              "    li.appendChild(percent);\n",
              "\n",
              "    outputElement.appendChild(li);\n",
              "\n",
              "    const fileDataPromise = new Promise((resolve) => {\n",
              "      const reader = new FileReader();\n",
              "      reader.onload = (e) => {\n",
              "        resolve(e.target.result);\n",
              "      };\n",
              "      reader.readAsArrayBuffer(file);\n",
              "    });\n",
              "    // Wait for the data to be ready.\n",
              "    let fileData = yield {\n",
              "      promise: fileDataPromise,\n",
              "      response: {\n",
              "        action: 'continue',\n",
              "      }\n",
              "    };\n",
              "\n",
              "    // Use a chunked sending to avoid message size limits. See b/62115660.\n",
              "    let position = 0;\n",
              "    do {\n",
              "      const length = Math.min(fileData.byteLength - position, MAX_PAYLOAD_SIZE);\n",
              "      const chunk = new Uint8Array(fileData, position, length);\n",
              "      position += length;\n",
              "\n",
              "      const base64 = btoa(String.fromCharCode.apply(null, chunk));\n",
              "      yield {\n",
              "        response: {\n",
              "          action: 'append',\n",
              "          file: file.name,\n",
              "          data: base64,\n",
              "        },\n",
              "      };\n",
              "\n",
              "      let percentDone = fileData.byteLength === 0 ?\n",
              "          100 :\n",
              "          Math.round((position / fileData.byteLength) * 100);\n",
              "      percent.textContent = `${percentDone}% done`;\n",
              "\n",
              "    } while (position < fileData.byteLength);\n",
              "  }\n",
              "\n",
              "  // All done.\n",
              "  yield {\n",
              "    response: {\n",
              "      action: 'complete',\n",
              "    }\n",
              "  };\n",
              "}\n",
              "\n",
              "scope.google = scope.google || {};\n",
              "scope.google.colab = scope.google.colab || {};\n",
              "scope.google.colab._files = {\n",
              "  _uploadFiles,\n",
              "  _uploadFilesContinue,\n",
              "};\n",
              "})(self);\n",
              "</script> "
            ]
          },
          "metadata": {}
        },
        {
          "output_type": "stream",
          "name": "stdout",
          "text": [
            "Saving final(2).csv to final(2).csv\n"
          ]
        }
      ]
    },
    {
      "cell_type": "code",
      "source": [
        "df = pd.read_csv(\"final(2).csv\")\n"
      ],
      "metadata": {
        "id": "6HoocwkOyDoT"
      },
      "execution_count": null,
      "outputs": []
    },
    {
      "cell_type": "code",
      "source": [
        "df['Label'] = (df['Prediction'] == 'DDOS').astype(int)\n"
      ],
      "metadata": {
        "id": "skQTUxoRymlp"
      },
      "execution_count": null,
      "outputs": []
    },
    {
      "cell_type": "code",
      "source": [
        "from sklearn.preprocessing import StandardScaler\n",
        "from sklearn.model_selection import train_test_split\n",
        "import numpy as np\n",
        "\n",
        "# Select numeric features\n",
        "features = ['Time', 'BTC', 'USD', 'Netflow_Bytes', 'Port']\n",
        "X = df[features]\n",
        "y = df['Label']\n",
        "\n",
        "# Scale features\n",
        "scaler = StandardScaler()\n",
        "X_scaled = scaler.fit_transform(X)\n",
        "\n",
        "# Train-test split\n",
        "X_train, X_test, y_train, y_test = train_test_split(X_scaled, y, test_size=0.2, random_state=42)\n",
        "\n",
        "# Reshape for LSTM/CNN\n",
        "X_train = X_train.reshape((X_train.shape[0], 1, X_train.shape[1]))\n",
        "X_test = X_test.reshape((X_test.shape[0], 1, X_test.shape[1]))\n"
      ],
      "metadata": {
        "id": "qu1gQO7qyqM6"
      },
      "execution_count": null,
      "outputs": []
    },
    {
      "cell_type": "code",
      "source": [
        "import pandas as pd\n",
        "import numpy as np\n",
        "from sklearn.preprocessing import StandardScaler\n",
        "from sklearn.model_selection import train_test_split\n",
        "from tensorflow.keras.models import Model\n",
        "from tensorflow.keras.layers import Input, LSTM, Dense, Conv1D, MaxPooling1D, Flatten, Dropout, concatenate, BatchNormalization\n",
        "from tensorflow.keras.optimizers import Adam\n",
        "import joblib\n",
        "from google.colab import files\n",
        "\n",
        "# Load your dataset\n",
        "df = pd.read_csv(\"final(2).csv\")\n",
        "\n",
        "# Create binary label: 1 if 'DDOS', else 0\n",
        "df['Label'] = (df['Prediction'] == 'DDOS').astype(int)\n",
        "\n",
        "# Select numeric features\n",
        "features = ['Time', 'BTC', 'USD', 'Netflow_Bytes', 'Port']\n",
        "X = df[features]\n",
        "y = df['Label']\n",
        "\n",
        "# Scale features\n",
        "scaler = StandardScaler()\n",
        "X_scaled = scaler.fit_transform(X)\n",
        "\n",
        "# Split and reshape\n",
        "X_train, X_test, y_train, y_test = train_test_split(X_scaled, y, test_size=0.2, random_state=42)\n",
        "X_train = X_train.reshape((X_train.shape[0], 1, X_train.shape[1]))\n",
        "X_test = X_test.reshape((X_test.shape[0], 1, X_test.shape[1]))\n",
        "\n",
        "# Build hybrid model\n",
        "input_layer = Input(shape=(1, X_train.shape[2]))\n",
        "cnn = Conv1D(64, 3, activation='relu', padding='same')(input_layer)\n",
        "cnn = MaxPooling1D(pool_size=1)(cnn)\n",
        "cnn = BatchNormalization()(cnn)\n",
        "cnn = Dropout(0.3)(cnn)\n",
        "cnn = Conv1D(64, 3, activation='relu', padding='same')(cnn)\n",
        "cnn = Flatten()(cnn)\n",
        "\n",
        "lstm = LSTM(100, dropout=0.3, recurrent_dropout=0.2)(input_layer)\n",
        "\n",
        "combined = concatenate([cnn, lstm])\n",
        "dense = Dense(128, activation='relu')(combined)\n",
        "dense = BatchNormalization()(dense)\n",
        "dense = Dropout(0.4)(dense)\n",
        "output = Dense(1, activation='sigmoid')(dense)\n",
        "\n",
        "best_hybrid_model = Model(inputs=input_layer, outputs=output)\n",
        "best_hybrid_model.compile(optimizer=Adam(0.001), loss='binary_crossentropy', metrics=['accuracy'])\n",
        "\n",
        "# Train model\n",
        "best_hybrid_model.fit(X_train, y_train, epochs=10, batch_size=256, validation_split=0.2)\n",
        "\n",
        "# Save model and scaler\n",
        "best_hybrid_model.save('hybrid_model.h5')\n",
        "joblib.dump(scaler, 'scaler.save')\n",
        "\n",
        "# Download files\n",
        "files.download('hybrid_model.h5')\n",
        "files.download('scaler.save')\n"
      ],
      "metadata": {
        "colab": {
          "base_uri": "https://localhost:8080/",
          "height": 401
        },
        "id": "t_EywUkgyuye",
        "outputId": "84d8a2e2-e2e2-4854-800c-a94a6161e6c9"
      },
      "execution_count": null,
      "outputs": [
        {
          "output_type": "stream",
          "name": "stdout",
          "text": [
            "Epoch 1/10\n",
            "\u001b[1m373/373\u001b[0m \u001b[32m━━━━━━━━━━━━━━━━━━━━\u001b[0m\u001b[37m\u001b[0m \u001b[1m15s\u001b[0m 19ms/step - accuracy: 0.8237 - loss: 0.4198 - val_accuracy: 1.0000 - val_loss: 0.0115\n",
            "Epoch 2/10\n",
            "\u001b[1m373/373\u001b[0m \u001b[32m━━━━━━━━━━━━━━━━━━━━\u001b[0m\u001b[37m\u001b[0m \u001b[1m9s\u001b[0m 16ms/step - accuracy: 0.9996 - loss: 0.0101 - val_accuracy: 1.0000 - val_loss: 0.0020\n",
            "Epoch 3/10\n",
            "\u001b[1m373/373\u001b[0m \u001b[32m━━━━━━━━━━━━━━━━━━━━\u001b[0m\u001b[37m\u001b[0m \u001b[1m11s\u001b[0m 19ms/step - accuracy: 0.9999 - loss: 0.0027 - val_accuracy: 1.0000 - val_loss: 8.3482e-04\n",
            "Epoch 4/10\n",
            "\u001b[1m373/373\u001b[0m \u001b[32m━━━━━━━━━━━━━━━━━━━━\u001b[0m\u001b[37m\u001b[0m \u001b[1m8s\u001b[0m 20ms/step - accuracy: 1.0000 - loss: 0.0012 - val_accuracy: 1.0000 - val_loss: 3.9407e-04\n",
            "Epoch 5/10\n",
            "\u001b[1m373/373\u001b[0m \u001b[32m━━━━━━━━━━━━━━━━━━━━\u001b[0m\u001b[37m\u001b[0m \u001b[1m9s\u001b[0m 17ms/step - accuracy: 1.0000 - loss: 6.3724e-04 - val_accuracy: 1.0000 - val_loss: 2.5119e-04\n",
            "Epoch 6/10\n",
            "\u001b[1m373/373\u001b[0m \u001b[32m━━━━━━━━━━━━━━━━━━━━\u001b[0m\u001b[37m\u001b[0m \u001b[1m10s\u001b[0m 16ms/step - accuracy: 1.0000 - loss: 3.8995e-04 - val_accuracy: 1.0000 - val_loss: 1.5601e-04\n",
            "Epoch 7/10\n",
            "\u001b[1m373/373\u001b[0m \u001b[32m━━━━━━━━━━━━━━━━━━━━\u001b[0m\u001b[37m\u001b[0m \u001b[1m7s\u001b[0m 19ms/step - accuracy: 1.0000 - loss: 2.4786e-04 - val_accuracy: 1.0000 - val_loss: 1.0470e-04\n",
            "Epoch 8/10\n",
            "\u001b[1m373/373\u001b[0m \u001b[32m━━━━━━━━━━━━━━━━━━━━\u001b[0m\u001b[37m\u001b[0m \u001b[1m6s\u001b[0m 16ms/step - accuracy: 1.0000 - loss: 1.8184e-04 - val_accuracy: 1.0000 - val_loss: 6.8395e-05\n",
            "Epoch 9/10\n",
            "\u001b[1m373/373\u001b[0m \u001b[32m━━━━━━━━━━━━━━━━━━━━\u001b[0m\u001b[37m\u001b[0m \u001b[1m8s\u001b[0m 20ms/step - accuracy: 1.0000 - loss: 1.3427e-04 - val_accuracy: 1.0000 - val_loss: 5.0205e-05\n",
            "Epoch 10/10\n",
            "\u001b[1m373/373\u001b[0m \u001b[32m━━━━━━━━━━━━━━━━━━━━\u001b[0m\u001b[37m\u001b[0m \u001b[1m6s\u001b[0m 16ms/step - accuracy: 1.0000 - loss: 9.4307e-05 - val_accuracy: 1.0000 - val_loss: 4.2073e-05\n"
          ]
        },
        {
          "output_type": "stream",
          "name": "stderr",
          "text": [
            "WARNING:absl:You are saving your model as an HDF5 file via `model.save()` or `keras.saving.save_model(model)`. This file format is considered legacy. We recommend using instead the native Keras format, e.g. `model.save('my_model.keras')` or `keras.saving.save_model(model, 'my_model.keras')`. \n"
          ]
        },
        {
          "output_type": "display_data",
          "data": {
            "text/plain": [
              "<IPython.core.display.Javascript object>"
            ],
            "application/javascript": [
              "\n",
              "    async function download(id, filename, size) {\n",
              "      if (!google.colab.kernel.accessAllowed) {\n",
              "        return;\n",
              "      }\n",
              "      const div = document.createElement('div');\n",
              "      const label = document.createElement('label');\n",
              "      label.textContent = `Downloading \"${filename}\": `;\n",
              "      div.appendChild(label);\n",
              "      const progress = document.createElement('progress');\n",
              "      progress.max = size;\n",
              "      div.appendChild(progress);\n",
              "      document.body.appendChild(div);\n",
              "\n",
              "      const buffers = [];\n",
              "      let downloaded = 0;\n",
              "\n",
              "      const channel = await google.colab.kernel.comms.open(id);\n",
              "      // Send a message to notify the kernel that we're ready.\n",
              "      channel.send({})\n",
              "\n",
              "      for await (const message of channel.messages) {\n",
              "        // Send a message to notify the kernel that we're ready.\n",
              "        channel.send({})\n",
              "        if (message.buffers) {\n",
              "          for (const buffer of message.buffers) {\n",
              "            buffers.push(buffer);\n",
              "            downloaded += buffer.byteLength;\n",
              "            progress.value = downloaded;\n",
              "          }\n",
              "        }\n",
              "      }\n",
              "      const blob = new Blob(buffers, {type: 'application/binary'});\n",
              "      const a = document.createElement('a');\n",
              "      a.href = window.URL.createObjectURL(blob);\n",
              "      a.download = filename;\n",
              "      div.appendChild(a);\n",
              "      a.click();\n",
              "      div.remove();\n",
              "    }\n",
              "  "
            ]
          },
          "metadata": {}
        },
        {
          "output_type": "display_data",
          "data": {
            "text/plain": [
              "<IPython.core.display.Javascript object>"
            ],
            "application/javascript": [
              "download(\"download_ddfb22cd-1db0-434f-8f81-6c34abdd08cd\", \"hybrid_model.h5\", 997656)"
            ]
          },
          "metadata": {}
        },
        {
          "output_type": "display_data",
          "data": {
            "text/plain": [
              "<IPython.core.display.Javascript object>"
            ],
            "application/javascript": [
              "\n",
              "    async function download(id, filename, size) {\n",
              "      if (!google.colab.kernel.accessAllowed) {\n",
              "        return;\n",
              "      }\n",
              "      const div = document.createElement('div');\n",
              "      const label = document.createElement('label');\n",
              "      label.textContent = `Downloading \"${filename}\": `;\n",
              "      div.appendChild(label);\n",
              "      const progress = document.createElement('progress');\n",
              "      progress.max = size;\n",
              "      div.appendChild(progress);\n",
              "      document.body.appendChild(div);\n",
              "\n",
              "      const buffers = [];\n",
              "      let downloaded = 0;\n",
              "\n",
              "      const channel = await google.colab.kernel.comms.open(id);\n",
              "      // Send a message to notify the kernel that we're ready.\n",
              "      channel.send({})\n",
              "\n",
              "      for await (const message of channel.messages) {\n",
              "        // Send a message to notify the kernel that we're ready.\n",
              "        channel.send({})\n",
              "        if (message.buffers) {\n",
              "          for (const buffer of message.buffers) {\n",
              "            buffers.push(buffer);\n",
              "            downloaded += buffer.byteLength;\n",
              "            progress.value = downloaded;\n",
              "          }\n",
              "        }\n",
              "      }\n",
              "      const blob = new Blob(buffers, {type: 'application/binary'});\n",
              "      const a = document.createElement('a');\n",
              "      a.href = window.URL.createObjectURL(blob);\n",
              "      a.download = filename;\n",
              "      div.appendChild(a);\n",
              "      a.click();\n",
              "      div.remove();\n",
              "    }\n",
              "  "
            ]
          },
          "metadata": {}
        },
        {
          "output_type": "display_data",
          "data": {
            "text/plain": [
              "<IPython.core.display.Javascript object>"
            ],
            "application/javascript": [
              "download(\"download_75279e1f-b937-4d5b-8beb-643a757daad9\", \"scaler.save\", 1071)"
            ]
          },
          "metadata": {}
        }
      ]
    },
    {
      "cell_type": "code",
      "source": [
        "import joblib\n",
        "scaler = joblib.load(\"scaler.save\")\n",
        "\n",
        "scaler_json = {\n",
        "    \"mean\": scaler.mean_.tolist(),\n",
        "    \"scale\": scaler.scale_.tolist(),\n",
        "    \"feature_names\": [\"Time\", \"BTC\", \"USD\", \"Netflow_Bytes\", \"Port\"]\n",
        "}\n",
        "\n",
        "import json\n",
        "with open(\"scaler.json\", \"w\") as f:\n",
        "    json.dump(scaler_json, f)\n",
        "\n",
        "from google.colab import files\n",
        "files.download(\"scaler.json\")\n"
      ],
      "metadata": {
        "id": "wU_6tudSzebb",
        "outputId": "02a4453a-b460-4d92-8fda-33a719a1f96b",
        "colab": {
          "base_uri": "https://localhost:8080/",
          "height": 17
        }
      },
      "execution_count": null,
      "outputs": [
        {
          "output_type": "display_data",
          "data": {
            "text/plain": [
              "<IPython.core.display.Javascript object>"
            ],
            "application/javascript": [
              "\n",
              "    async function download(id, filename, size) {\n",
              "      if (!google.colab.kernel.accessAllowed) {\n",
              "        return;\n",
              "      }\n",
              "      const div = document.createElement('div');\n",
              "      const label = document.createElement('label');\n",
              "      label.textContent = `Downloading \"${filename}\": `;\n",
              "      div.appendChild(label);\n",
              "      const progress = document.createElement('progress');\n",
              "      progress.max = size;\n",
              "      div.appendChild(progress);\n",
              "      document.body.appendChild(div);\n",
              "\n",
              "      const buffers = [];\n",
              "      let downloaded = 0;\n",
              "\n",
              "      const channel = await google.colab.kernel.comms.open(id);\n",
              "      // Send a message to notify the kernel that we're ready.\n",
              "      channel.send({})\n",
              "\n",
              "      for await (const message of channel.messages) {\n",
              "        // Send a message to notify the kernel that we're ready.\n",
              "        channel.send({})\n",
              "        if (message.buffers) {\n",
              "          for (const buffer of message.buffers) {\n",
              "            buffers.push(buffer);\n",
              "            downloaded += buffer.byteLength;\n",
              "            progress.value = downloaded;\n",
              "          }\n",
              "        }\n",
              "      }\n",
              "      const blob = new Blob(buffers, {type: 'application/binary'});\n",
              "      const a = document.createElement('a');\n",
              "      a.href = window.URL.createObjectURL(blob);\n",
              "      a.download = filename;\n",
              "      div.appendChild(a);\n",
              "      a.click();\n",
              "      div.remove();\n",
              "    }\n",
              "  "
            ]
          },
          "metadata": {}
        },
        {
          "output_type": "display_data",
          "data": {
            "text/plain": [
              "<IPython.core.display.Javascript object>"
            ],
            "application/javascript": [
              "download(\"download_11671e04-64b9-492a-b830-1ae77b9ec3f3\", \"scaler.json\", 281)"
            ]
          },
          "metadata": {}
        }
      ]
    }
  ]
}